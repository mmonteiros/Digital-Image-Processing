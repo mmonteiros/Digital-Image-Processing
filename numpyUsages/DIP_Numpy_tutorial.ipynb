{
  "nbformat": 4,
  "nbformat_minor": 0,
  "metadata": {
    "colab": {
      "name": "DIP - Numpy tutorial.ipynb",
      "provenance": [],
      "collapsed_sections": [
        "4Ks8OmgdzZ2c",
        "wLtzkTLK-Dxs",
        "M_jtn4jlClJu",
        "rYx0YCvsGFvH",
        "VwkgEo7xGxpx",
        "diNRtYEoHe3T",
        "rlu4qB0AKUrR",
        "sH-xy-R8MHzi",
        "_A40U_84Od5K",
        "R75zS19oQXA9",
        "CY7rTM8lRIMk",
        "kV2dBcayRQMg",
        "TNVACOdbRVGB",
        "kcBG5d7BRbUd",
        "kKIYc0RaRgjY",
        "jk4UA2jiRo5N",
        "3MZ-UXOERtiq",
        "LYF59ZvyRzbh",
        "C6t6Ur-uR4ji",
        "a_8hz7NwR7II",
        "eresQDwmR-Ci",
        "6pX5ySn9SBU3"
      ],
      "toc_visible": true
    },
    "kernelspec": {
      "name": "python3",
      "display_name": "Python 3"
    },
    "language_info": {
      "name": "python"
    }
  },
  "cells": [
    {
      "cell_type": "markdown",
      "source": [
        "# For all code works need to import numpy"
      ],
      "metadata": {
        "id": "9FAbl87uzZR0"
      }
    },
    {
      "cell_type": "code",
      "source": [
        "import numpy as np"
      ],
      "metadata": {
        "id": "45ejlgIczZls"
      },
      "execution_count": null,
      "outputs": []
    },
    {
      "cell_type": "markdown",
      "source": [
        "# NumPy Array"
      ],
      "metadata": {
        "id": "4Ks8OmgdzZ2c"
      }
    },
    {
      "cell_type": "markdown",
      "source": [
        "### How to create an empty and a full NumPy array?"
      ],
      "metadata": {
        "id": "NJw7OznGzb8c"
      }
    },
    {
      "cell_type": "code",
      "execution_count": null,
      "metadata": {
        "colab": {
          "base_uri": "https://localhost:8080/"
        },
        "id": "RQdtM75mzA4R",
        "outputId": "43e595f6-7d24-4e82-d5f3-c83f428bf5e7"
      },
      "outputs": [
        {
          "output_type": "stream",
          "name": "stdout",
          "text": [
            "result =  []\n"
          ]
        }
      ],
      "source": [
        "array = np.empty(0)\n",
        "print('result = ', array)"
      ]
    },
    {
      "cell_type": "markdown",
      "source": [
        "### Create a Numpy array filled with all zeros"
      ],
      "metadata": {
        "id": "uSmA1sIBzgMz"
      }
    },
    {
      "cell_type": "code",
      "source": [
        "array = np.zeros((3,5))\n",
        "print('result = \\n', array)"
      ],
      "metadata": {
        "colab": {
          "base_uri": "https://localhost:8080/"
        },
        "id": "GiC04jcdzgeN",
        "outputId": "2bc6119e-de64-4a25-df1b-222ab0f824e2"
      },
      "execution_count": null,
      "outputs": [
        {
          "output_type": "stream",
          "name": "stdout",
          "text": [
            "result = \n",
            " [[0. 0. 0. 0. 0.]\n",
            " [0. 0. 0. 0. 0.]\n",
            " [0. 0. 0. 0. 0.]]\n"
          ]
        }
      ]
    },
    {
      "cell_type": "markdown",
      "source": [
        "### Create a Numpy array filled with all ones"
      ],
      "metadata": {
        "id": "9LeAkLXp01ih"
      }
    },
    {
      "cell_type": "code",
      "source": [
        "array = np.ones((3,5))\n",
        "print('result = \\n', array)"
      ],
      "metadata": {
        "colab": {
          "base_uri": "https://localhost:8080/"
        },
        "id": "iAJrV2_t010D",
        "outputId": "8f9887c5-6071-49b4-9252-1118626a1c46"
      },
      "execution_count": null,
      "outputs": [
        {
          "output_type": "stream",
          "name": "stdout",
          "text": [
            "result = \n",
            " [[1. 1. 1. 1. 1.]\n",
            " [1. 1. 1. 1. 1.]\n",
            " [1. 1. 1. 1. 1.]]\n"
          ]
        }
      ]
    },
    {
      "cell_type": "markdown",
      "source": [
        "### Check whether a Numpy array contains a specified row"
      ],
      "metadata": {
        "id": "geymM53t1I4-"
      }
    },
    {
      "cell_type": "code",
      "source": [
        "[1, 1, 1, 1, 1] in array.tolist()"
      ],
      "metadata": {
        "colab": {
          "base_uri": "https://localhost:8080/"
        },
        "id": "8Nl63Ndx1JSF",
        "outputId": "43b0283f-8873-4698-e88a-9e07aa32a03d"
      },
      "execution_count": null,
      "outputs": [
        {
          "output_type": "execute_result",
          "data": {
            "text/plain": [
              "True"
            ]
          },
          "metadata": {},
          "execution_count": 9
        }
      ]
    },
    {
      "cell_type": "markdown",
      "source": [
        "### How to Remove rows in Numpy array that contains non-numeric values?"
      ],
      "metadata": {
        "id": "EaVQw-VH1SXV"
      }
    },
    {
      "cell_type": "code",
      "source": [
        "array = np.array([[0, 1, 2],\n",
        "              [np.nan, 3, 4],\n",
        "              [5, 6, 7],\n",
        "              [8, 9, 10]\n",
        "])\n",
        "array = array[~np.isnan(array).any(axis=1)]\n",
        "print('result = \\n', array)"
      ],
      "metadata": {
        "colab": {
          "base_uri": "https://localhost:8080/"
        },
        "id": "lxMoOn8F1SGG",
        "outputId": "119956cd-df72-4ede-e461-d69ab5c58509"
      },
      "execution_count": null,
      "outputs": [
        {
          "output_type": "stream",
          "name": "stdout",
          "text": [
            "result = \n",
            " [[ 0.  1.  2.]\n",
            " [ 5.  6.  7.]\n",
            " [ 8.  9. 10.]]\n"
          ]
        }
      ]
    },
    {
      "cell_type": "markdown",
      "source": [
        "### Remove single-dimensional entries from the shape of an array"
      ],
      "metadata": {
        "id": "i0CDdIWD1tjB"
      }
    },
    {
      "cell_type": "code",
      "source": [
        "array = np.array([[1]])\n",
        "print('fisrt array = ',array)\n",
        "array = np.squeeze(array, axis=None)\n",
        "print('removed the shape of an array = ',array)"
      ],
      "metadata": {
        "colab": {
          "base_uri": "https://localhost:8080/"
        },
        "id": "0Khxy31G1tx2",
        "outputId": "4f48c512-d5e2-413e-a744-4899ad358e4f"
      },
      "execution_count": null,
      "outputs": [
        {
          "output_type": "stream",
          "name": "stdout",
          "text": [
            "fisrt array =  [[1]]\n",
            "removed the shape of an array =  1\n"
          ]
        }
      ]
    },
    {
      "cell_type": "markdown",
      "source": [
        "### Find the number of occurrences of a sequence in a NumPy array"
      ],
      "metadata": {
        "id": "tZT5GeiN2StQ"
      }
    },
    {
      "cell_type": "code",
      "source": [
        "array = np.array([[9, 8, 7, 2],\n",
        "              [4, 5, 7, 3],\n",
        "              [5, 7, 2, 2],\n",
        "              [5, 7, 4, 1]])\n",
        "repeats = repr(array).count('5, 7')\n",
        "print('repeats ', repeats, ' times of 5,7 in that array:')\n",
        "print(array)\n"
      ],
      "metadata": {
        "colab": {
          "base_uri": "https://localhost:8080/"
        },
        "id": "aMG4eE5X2SPD",
        "outputId": "dc767c4e-0c75-46f5-a294-875095509de4"
      },
      "execution_count": null,
      "outputs": [
        {
          "output_type": "stream",
          "name": "stdout",
          "text": [
            "repeats  3  times of 5,7 in that array:\n",
            "[[9 8 7 2]\n",
            " [4 5 7 3]\n",
            " [5 7 2 2]\n",
            " [5 7 4 1]]\n"
          ]
        }
      ]
    },
    {
      "cell_type": "markdown",
      "source": [
        "### Find the most frequent value in a NumPy array"
      ],
      "metadata": {
        "id": "oTSmkArw2Sc5"
      }
    },
    {
      "cell_type": "code",
      "source": [
        "array = np.array([7, 3, 2, 2, 4, 3, 3])\n",
        "most_frequent = np.bincount(array).argmax()\n",
        "print('the most frequent value is :', most_frequent)"
      ],
      "metadata": {
        "colab": {
          "base_uri": "https://localhost:8080/"
        },
        "id": "0VVjDjEq2-1G",
        "outputId": "5d374fb1-a292-4b2f-f8b3-33ef1f2e25b8"
      },
      "execution_count": null,
      "outputs": [
        {
          "output_type": "stream",
          "name": "stdout",
          "text": [
            "the most frequent value is : 3\n"
          ]
        }
      ]
    },
    {
      "cell_type": "markdown",
      "source": [
        "### Combining a one and a two-dimensional NumPy Array"
      ],
      "metadata": {
        "id": "XVl1QVvW3TnD"
      }
    },
    {
      "cell_type": "code",
      "source": [
        "first_array = np.array([5, 7])\n",
        "second_array = np.array([[1, 2, 3],[9, 11, 15]])\n",
        "third_array = np.c_[first_array, second_array]\n",
        "\n",
        "print(first_array, '\\n')\n",
        "print(second_array, '\\n')\n",
        "print(third_array)"
      ],
      "metadata": {
        "colab": {
          "base_uri": "https://localhost:8080/"
        },
        "id": "97sDKaxt3Ur2",
        "outputId": "c372797c-ceb7-4cf4-963a-f344af08266c"
      },
      "execution_count": null,
      "outputs": [
        {
          "output_type": "stream",
          "name": "stdout",
          "text": [
            "[5 7] \n",
            "\n",
            "[[ 1  2  3]\n",
            " [ 9 11 15]] \n",
            "\n",
            "[[ 5  1  2  3]\n",
            " [ 7  9 11 15]]\n"
          ]
        }
      ]
    },
    {
      "cell_type": "markdown",
      "source": [
        "### How to build an array of all combinations of two NumPy arrays?"
      ],
      "metadata": {
        "id": "lD3fNrm33r09"
      }
    },
    {
      "cell_type": "code",
      "source": [
        "first_array = np.array([1, 2, 3])\n",
        "second_array = np.array([1, 5, 6])\n",
        "third_array = np.array(np.meshgrid(first_array, second_array)).T.reshape(-1,2)\n",
        "print(third_array)"
      ],
      "metadata": {
        "colab": {
          "base_uri": "https://localhost:8080/"
        },
        "id": "aJnsHrJT3rQE",
        "outputId": "bf588c6d-7e55-4795-f110-dbb14557e918"
      },
      "execution_count": null,
      "outputs": [
        {
          "output_type": "stream",
          "name": "stdout",
          "text": [
            "[[1 1]\n",
            " [1 5]\n",
            " [1 6]\n",
            " [2 1]\n",
            " [2 5]\n",
            " [2 6]\n",
            " [3 1]\n",
            " [3 5]\n",
            " [3 6]]\n"
          ]
        }
      ]
    },
    {
      "cell_type": "markdown",
      "source": [
        "### How to add a border around a NumPy array?"
      ],
      "metadata": {
        "id": "io2Qtj2N3rHo"
      }
    },
    {
      "cell_type": "code",
      "source": [
        "array = np.ones((4,4))\n",
        "array = np.pad(array, pad_width=1)\n",
        "print(array)"
      ],
      "metadata": {
        "colab": {
          "base_uri": "https://localhost:8080/"
        },
        "id": "gSEp_5Go4DJ2",
        "outputId": "d17ce365-c300-41fa-9b0f-dbb860831b30"
      },
      "execution_count": null,
      "outputs": [
        {
          "output_type": "stream",
          "name": "stdout",
          "text": [
            "[[0. 0. 0. 0. 0. 0.]\n",
            " [0. 1. 1. 1. 1. 0.]\n",
            " [0. 1. 1. 1. 1. 0.]\n",
            " [0. 1. 1. 1. 1. 0.]\n",
            " [0. 1. 1. 1. 1. 0.]\n",
            " [0. 0. 0. 0. 0. 0.]]\n"
          ]
        }
      ]
    },
    {
      "cell_type": "markdown",
      "source": [
        "### How to compare two NumPy arrays?"
      ],
      "metadata": {
        "id": "fADkvfzn44H9"
      }
    },
    {
      "cell_type": "code",
      "source": [
        "first_array = np.ones((4))\n",
        "second_array = np.array([0,1,2,1])\n",
        "print(np.equal(first_array, second_array))"
      ],
      "metadata": {
        "colab": {
          "base_uri": "https://localhost:8080/"
        },
        "id": "UeKMefh644gl",
        "outputId": "0f6e4f25-f885-48d4-a6d4-f9dcca172991"
      },
      "execution_count": null,
      "outputs": [
        {
          "output_type": "stream",
          "name": "stdout",
          "text": [
            "[False  True False  True]\n"
          ]
        }
      ]
    },
    {
      "cell_type": "markdown",
      "source": [
        "### How to check whether specified values are present in NumPy array?"
      ],
      "metadata": {
        "id": "QKgPn9N65Mhj"
      }
    },
    {
      "cell_type": "code",
      "source": [
        "array = np.arange(10)\n",
        "print(2 in array)\n",
        "print(15 in array)"
      ],
      "metadata": {
        "colab": {
          "base_uri": "https://localhost:8080/"
        },
        "id": "-W5eQaTp5MtS",
        "outputId": "18301b32-1d90-43dd-f5e7-49ba81b98be4"
      },
      "execution_count": null,
      "outputs": [
        {
          "output_type": "stream",
          "name": "stdout",
          "text": [
            "True\n",
            "False\n"
          ]
        }
      ]
    },
    {
      "cell_type": "markdown",
      "source": [
        "### How to get all 2D diagonals of a 3D NumPy array?"
      ],
      "metadata": {
        "id": "CLr5fqLp5ZwK"
      }
    },
    {
      "cell_type": "code",
      "source": [
        "array = np.array([[[1, 2, 3],\n",
        "               [4, 5, 6],\n",
        "               [7, 8, 9]],\n",
        "              [[-1, -2, -3],\n",
        "               [-4, -5, -6],\n",
        "               [-7, -8, -9]]])\n",
        "\n",
        "print(f'Array 3D:\\n{array}\\n')\n",
        "\n",
        "print(f'Diagonals: line 0 axes 0 e 1:\\n{array.diagonal(offset=0, axis1=0,axis2=1)}\\n')\n",
        "print(f'Diagonals: line 1 axes 0 e 1:\\n{array.diagonal(offset=1, axis1=0,axis2=1)}\\n')\n",
        "print(f'Diagonals: line 0 axes 0 e 2:\\n{array.diagonal(offset=0, axis1=0,axis2=2)}\\n')\n",
        "print(f'Diagonals: line 1 axes 0 e 2:\\n{array.diagonal(offset=1, axis1=0,axis2=2)}\\n')\n",
        "print(f'Diagonals: line 0 axes 1 e 2:\\n{array.diagonal(offset=0, axis1=1,axis2=2)}\\n')\n",
        "print(f'Diagonals: line 1 axes 1 e 2:\\n{array.diagonal(offset=1, axis1=1,axis2=2)}\\n')"
      ],
      "metadata": {
        "colab": {
          "base_uri": "https://localhost:8080/"
        },
        "id": "fOwszoxm5aC5",
        "outputId": "5598e26f-9490-4e6e-a0f4-095f663f59c5"
      },
      "execution_count": null,
      "outputs": [
        {
          "output_type": "stream",
          "name": "stdout",
          "text": [
            "Array 3D:\n",
            "[[[ 1  2  3]\n",
            "  [ 4  5  6]\n",
            "  [ 7  8  9]]\n",
            "\n",
            " [[-1 -2 -3]\n",
            "  [-4 -5 -6]\n",
            "  [-7 -8 -9]]]\n",
            "\n",
            "Diagonals: line 0 axes 0 e 1:\n",
            "[[ 1 -4]\n",
            " [ 2 -5]\n",
            " [ 3 -6]]\n",
            "\n",
            "Diagonals: line 1 axes 0 e 1:\n",
            "[[ 4 -7]\n",
            " [ 5 -8]\n",
            " [ 6 -9]]\n",
            "\n",
            "Diagonals: line 0 axes 0 e 2:\n",
            "[[ 1 -2]\n",
            " [ 4 -5]\n",
            " [ 7 -8]]\n",
            "\n",
            "Diagonals: line 1 axes 0 e 2:\n",
            "[[ 2 -3]\n",
            " [ 5 -6]\n",
            " [ 8 -9]]\n",
            "\n",
            "Diagonals: line 0 axes 1 e 2:\n",
            "[[ 1  5  9]\n",
            " [-1 -5 -9]]\n",
            "\n",
            "Diagonals: line 1 axes 1 e 2:\n",
            "[[ 2  6]\n",
            " [-2 -6]]\n",
            "\n"
          ]
        }
      ]
    },
    {
      "cell_type": "markdown",
      "source": [
        "### Flatten a Matrix in Python using NumPy"
      ],
      "metadata": {
        "id": "oQT6F1rt6jhF"
      }
    },
    {
      "cell_type": "code",
      "source": [
        "array = np.array([[[1, 2],[3,4]],\n",
        "              [[5, 6], [7,8]]])\n",
        "print(array, '\\n')\n",
        "array = array.flatten()\n",
        "print(array)"
      ],
      "metadata": {
        "colab": {
          "base_uri": "https://localhost:8080/"
        },
        "id": "l8aiHjnK6kWD",
        "outputId": "d12e4410-ed6f-4e26-8b85-aceb50dd70a1"
      },
      "execution_count": null,
      "outputs": [
        {
          "output_type": "stream",
          "name": "stdout",
          "text": [
            "[[[1 2]\n",
            "  [3 4]]\n",
            "\n",
            " [[5 6]\n",
            "  [7 8]]] \n",
            "\n",
            "[1 2 3 4 5 6 7 8]\n"
          ]
        }
      ]
    },
    {
      "cell_type": "markdown",
      "source": [
        "### Flatten a 2d numpy array into 1d array"
      ],
      "metadata": {
        "id": "HganFI0r6wEP"
      }
    },
    {
      "cell_type": "code",
      "source": [
        "array = np.ones((3,4))\n",
        "print(array, '\\n')\n",
        "array = array.flatten()\n",
        "print(array)"
      ],
      "metadata": {
        "colab": {
          "base_uri": "https://localhost:8080/"
        },
        "id": "xeEeRueW6wpe",
        "outputId": "a4374429-bd31-47ed-bd74-4eda314f2cf4"
      },
      "execution_count": null,
      "outputs": [
        {
          "output_type": "stream",
          "name": "stdout",
          "text": [
            "[[1. 1. 1. 1.]\n",
            " [1. 1. 1. 1.]\n",
            " [1. 1. 1. 1.]] \n",
            "\n",
            "[1. 1. 1. 1. 1. 1. 1. 1. 1. 1. 1. 1.]\n"
          ]
        }
      ]
    },
    {
      "cell_type": "markdown",
      "source": [
        "### Move axes of an array to new positions"
      ],
      "metadata": {
        "id": "j2oqMefl6v_3"
      }
    },
    {
      "cell_type": "code",
      "source": [
        "array = np.arange(18).reshape(2, 3, 3)\n",
        "print(array, '\\n')\n",
        "array = np.moveaxis(array, source=1, destination=0)\n",
        "print('Move axes 1 e 0:\\n ', array)"
      ],
      "metadata": {
        "colab": {
          "base_uri": "https://localhost:8080/"
        },
        "id": "jnOmRXJe64WN",
        "outputId": "f60bf08d-5664-46fc-bd3e-91f2ec22f842"
      },
      "execution_count": null,
      "outputs": [
        {
          "output_type": "stream",
          "name": "stdout",
          "text": [
            "[[[ 0  1  2]\n",
            "  [ 3  4  5]\n",
            "  [ 6  7  8]]\n",
            "\n",
            " [[ 9 10 11]\n",
            "  [12 13 14]\n",
            "  [15 16 17]]] \n",
            "\n",
            "Move axes 1 e 0:\n",
            "  [[[ 0  1  2]\n",
            "  [ 9 10 11]]\n",
            "\n",
            " [[ 3  4  5]\n",
            "  [12 13 14]]\n",
            "\n",
            " [[ 6  7  8]\n",
            "  [15 16 17]]]\n"
          ]
        }
      ]
    },
    {
      "cell_type": "markdown",
      "source": [
        "### Interchange two axes of an array"
      ],
      "metadata": {
        "id": "xNQf4tz-7C6G"
      }
    },
    {
      "cell_type": "code",
      "source": [
        "array = np.arange(18).reshape(2, 3, 3)\n",
        "print(array, '\\n')\n",
        "array = np.swapaxes(array, axis1=1, axis2=0)\n",
        "print('Interchange axes: 1 e 0: \\n', array)"
      ],
      "metadata": {
        "colab": {
          "base_uri": "https://localhost:8080/"
        },
        "id": "h8I0TahK7DwW",
        "outputId": "1bb06dd1-c438-4911-9429-b506752a2495"
      },
      "execution_count": null,
      "outputs": [
        {
          "output_type": "stream",
          "name": "stdout",
          "text": [
            "[[[ 0  1  2]\n",
            "  [ 3  4  5]\n",
            "  [ 6  7  8]]\n",
            "\n",
            " [[ 9 10 11]\n",
            "  [12 13 14]\n",
            "  [15 16 17]]] \n",
            "\n",
            "Interchange axes: 1 e 0: \n",
            " [[[ 0  1  2]\n",
            "  [ 9 10 11]]\n",
            "\n",
            " [[ 3  4  5]\n",
            "  [12 13 14]]\n",
            "\n",
            " [[ 6  7  8]\n",
            "  [15 16 17]]]\n"
          ]
        }
      ]
    },
    {
      "cell_type": "markdown",
      "source": [
        "### NumPy – Fibonacci Series using Binet Formula"
      ],
      "metadata": {
        "id": "oj-C6ar27Y44"
      }
    },
    {
      "cell_type": "code",
      "source": [
        "array = np.arange(1, 11)\n",
        "lengthA = len(array)\n",
        "\n",
        "sqrtFive = np.sqrt(5)\n",
        "alpha = (1 + sqrtFive) / 2\n",
        "beta = (1 - sqrtFive) / 2\n",
        "\n",
        "Fn = np.rint(((alpha ** array) - (beta ** array)) / (sqrtFive))\n",
        "print(\"The first {} numbers of Fibonacci series are {} . \".format(lengthA, Fn))"
      ],
      "metadata": {
        "colab": {
          "base_uri": "https://localhost:8080/"
        },
        "id": "ASpoepW67Xzx",
        "outputId": "5233b35d-92bd-4c92-d298-c9ad03dfc1cc"
      },
      "execution_count": null,
      "outputs": [
        {
          "output_type": "stream",
          "name": "stdout",
          "text": [
            "The first 10 numbers of Fibonacci series are [ 1.  1.  2.  3.  5.  8. 13. 21. 34. 55.] . \n"
          ]
        }
      ]
    },
    {
      "cell_type": "markdown",
      "source": [
        "### Counts the number of non-zero values in the array"
      ],
      "metadata": {
        "id": "B-VTNs8V8FNm"
      }
    },
    {
      "cell_type": "code",
      "source": [
        "array = np.array([0, 1, 2, 0, 0, 0])\n",
        "print(np.count_nonzero(array))"
      ],
      "metadata": {
        "colab": {
          "base_uri": "https://localhost:8080/"
        },
        "id": "sGyKTXkr8GzS",
        "outputId": "c31b4878-2491-4c02-bf7f-da97364e8ec1"
      },
      "execution_count": null,
      "outputs": [
        {
          "output_type": "stream",
          "name": "stdout",
          "text": [
            "2\n"
          ]
        }
      ]
    },
    {
      "cell_type": "markdown",
      "source": [
        "### Count the number of elements along a given axis"
      ],
      "metadata": {
        "id": "PexqhK-083Ol"
      }
    },
    {
      "cell_type": "code",
      "source": [
        "array = np.arange(12).reshape((4,3))\n",
        "print(array, '\\n')\n",
        "print('eixo 0: ', np.size(array,0))\n",
        "print('eixo 1: ', np.size(array,1))"
      ],
      "metadata": {
        "colab": {
          "base_uri": "https://localhost:8080/"
        },
        "id": "i4rn-foA85Lt",
        "outputId": "2ef198eb-f780-4da5-a5c9-a3de91ce941f"
      },
      "execution_count": null,
      "outputs": [
        {
          "output_type": "stream",
          "name": "stdout",
          "text": [
            "[[ 0  1  2]\n",
            " [ 3  4  5]\n",
            " [ 6  7  8]\n",
            " [ 9 10 11]] \n",
            "\n",
            "eixo 0:  4\n",
            "eixo 1:  3\n"
          ]
        }
      ]
    },
    {
      "cell_type": "markdown",
      "source": [
        "### Trim the leading and/or trailing zeros from a 1-D array"
      ],
      "metadata": {
        "id": "sDusB1Bl9G2j"
      }
    },
    {
      "cell_type": "code",
      "source": [
        "array = np.array([0, 0, 0, 1, 2, 0, 3, 0, 4, 5, 0, 0])\n",
        "print(array)\n",
        "array = np.trim_zeros(array)\n",
        "print(array)"
      ],
      "metadata": {
        "colab": {
          "base_uri": "https://localhost:8080/"
        },
        "id": "73xOFcD19JEY",
        "outputId": "cb169901-8901-401c-d500-fdc2d2638fd3"
      },
      "execution_count": null,
      "outputs": [
        {
          "output_type": "stream",
          "name": "stdout",
          "text": [
            "[0 0 0 1 2 0 3 0 4 5 0 0]\n",
            "[1 2 0 3 0 4 5]\n"
          ]
        }
      ]
    },
    {
      "cell_type": "markdown",
      "source": [
        "### Change data type of given numpy array"
      ],
      "metadata": {
        "id": "Qt4DoiBQ9eS7"
      }
    },
    {
      "cell_type": "code",
      "source": [
        "array = np.array([0.894, 1.5, -2.346, 0.334]).astype('int')\n",
        "print(array)"
      ],
      "metadata": {
        "colab": {
          "base_uri": "https://localhost:8080/"
        },
        "id": "iTHzphIO9gKq",
        "outputId": "2bf84cb8-dfd8-4538-f4d9-499f1613d727"
      },
      "execution_count": null,
      "outputs": [
        {
          "output_type": "stream",
          "name": "stdout",
          "text": [
            "[ 0  1 -2  0]\n"
          ]
        }
      ]
    },
    {
      "cell_type": "markdown",
      "source": [
        "### Reverse a numpy array"
      ],
      "metadata": {
        "id": "LDzAuex39n_r"
      }
    },
    {
      "cell_type": "code",
      "source": [
        "array = np.array([1, 2, 3, 4, 5, 6, 0])\n",
        "array = np.flip(array)\n",
        "print(array)"
      ],
      "metadata": {
        "colab": {
          "base_uri": "https://localhost:8080/"
        },
        "id": "OZRKYItN9nuK",
        "outputId": "8f94fa8e-ccf0-4b74-acc8-4132da3921b4"
      },
      "execution_count": null,
      "outputs": [
        {
          "output_type": "stream",
          "name": "stdout",
          "text": [
            "[0 6 5 4 3 2 1]\n"
          ]
        }
      ]
    },
    {
      "cell_type": "markdown",
      "source": [
        "### How to make a NumPy array read-only?"
      ],
      "metadata": {
        "id": "MmByow7w94ds"
      }
    },
    {
      "cell_type": "code",
      "source": [
        "array = np.array([1, 2, 3, 4, 5, 6])\n",
        "array.flags.writeable = False"
      ],
      "metadata": {
        "id": "aOyN-Xoq95ts"
      },
      "execution_count": null,
      "outputs": []
    },
    {
      "cell_type": "markdown",
      "source": [
        "# Questions on NumPy Matrix"
      ],
      "metadata": {
        "id": "wLtzkTLK-Dxs"
      }
    },
    {
      "cell_type": "code",
      "source": [
        "first_matrix = np.matrix('[1, -7, 4; 7, 8, -3; 6, 2, 7]')\n",
        "second_matrix = np.matrix('[1, 0, 0; -1, 1, 5; 2, 9, 10]')"
      ],
      "metadata": {
        "id": "0imaGnZ1-FNs"
      },
      "execution_count": null,
      "outputs": []
    },
    {
      "cell_type": "markdown",
      "source": [
        "### Get the maximum value from given matrix"
      ],
      "metadata": {
        "id": "TbBTE8m2-mXu"
      }
    },
    {
      "cell_type": "code",
      "source": [
        "np.max(first_matrix)"
      ],
      "metadata": {
        "colab": {
          "base_uri": "https://localhost:8080/"
        },
        "id": "7KEY0wLY-oEo",
        "outputId": "65ee33d2-e15d-41e7-b6bd-c87ebf92efcd"
      },
      "execution_count": null,
      "outputs": [
        {
          "output_type": "execute_result",
          "data": {
            "text/plain": [
              "8"
            ]
          },
          "metadata": {},
          "execution_count": 57
        }
      ]
    },
    {
      "cell_type": "markdown",
      "source": [
        "### Get the minimum value from given matrix"
      ],
      "metadata": {
        "id": "2i4Fhfq1-q-f"
      }
    },
    {
      "cell_type": "code",
      "source": [
        "np.min(first_matrix)"
      ],
      "metadata": {
        "colab": {
          "base_uri": "https://localhost:8080/"
        },
        "id": "Ow5EzFd4-sn9",
        "outputId": "3fe2d7b5-875c-48fa-9272-d61e000293eb"
      },
      "execution_count": null,
      "outputs": [
        {
          "output_type": "execute_result",
          "data": {
            "text/plain": [
              "-7"
            ]
          },
          "metadata": {},
          "execution_count": 58
        }
      ]
    },
    {
      "cell_type": "markdown",
      "source": [
        "### Find the number of rows and columns of a given matrix using NumPy"
      ],
      "metadata": {
        "id": "-NYb-e0h-u_e"
      }
    },
    {
      "cell_type": "code",
      "source": [
        "np.shape(first_matrix)"
      ],
      "metadata": {
        "colab": {
          "base_uri": "https://localhost:8080/"
        },
        "id": "nmnlIuBw-yTv",
        "outputId": "a72094ae-8b88-42a5-b204-43f3083ab635"
      },
      "execution_count": null,
      "outputs": [
        {
          "output_type": "execute_result",
          "data": {
            "text/plain": [
              "(3, 3)"
            ]
          },
          "metadata": {},
          "execution_count": 59
        }
      ]
    },
    {
      "cell_type": "markdown",
      "source": [
        "### Select the elements from a given matrix"
      ],
      "metadata": {
        "id": "CoAysAuN-2jP"
      }
    },
    {
      "cell_type": "code",
      "source": [
        "select_matrix = np.select([first_matrix%2==1], [first_matrix])\n",
        "\n",
        "print('Select the odd elements from first_matrix')\n",
        "print(select_matrix)"
      ],
      "metadata": {
        "colab": {
          "base_uri": "https://localhost:8080/"
        },
        "id": "6fzEziJ5-4wO",
        "outputId": "793d8f07-60ba-4e74-8648-7ab3a7868f2d"
      },
      "execution_count": null,
      "outputs": [
        {
          "output_type": "stream",
          "name": "stdout",
          "text": [
            "Select the odd elements from first_matrix\n",
            "[[ 1 -7  0]\n",
            " [ 7  0 -3]\n",
            " [ 0  0  7]]\n"
          ]
        }
      ]
    },
    {
      "cell_type": "markdown",
      "source": [
        "### Find the sum of values in a matrix"
      ],
      "metadata": {
        "id": "gZap7Kca_NNd"
      }
    },
    {
      "cell_type": "code",
      "source": [
        "np.sum(first_matrix)"
      ],
      "metadata": {
        "colab": {
          "base_uri": "https://localhost:8080/"
        },
        "id": "bpg6sOQx_Pm9",
        "outputId": "c7bd5ea7-3ecd-469e-f89c-075517a4b5a4"
      },
      "execution_count": null,
      "outputs": [
        {
          "output_type": "execute_result",
          "data": {
            "text/plain": [
              "25"
            ]
          },
          "metadata": {},
          "execution_count": 61
        }
      ]
    },
    {
      "cell_type": "markdown",
      "source": [
        "### Calculate the sum of the diagonal elements of a NumPy array"
      ],
      "metadata": {
        "id": "mOVhy8jd_S5f"
      }
    },
    {
      "cell_type": "code",
      "source": [
        "np.trace(first_matrix)"
      ],
      "metadata": {
        "colab": {
          "base_uri": "https://localhost:8080/"
        },
        "id": "PTbWlUP4_Ukg",
        "outputId": "1d1bb7d5-dbb6-4440-e0b9-2b2580436d1a"
      },
      "execution_count": null,
      "outputs": [
        {
          "output_type": "execute_result",
          "data": {
            "text/plain": [
              "16"
            ]
          },
          "metadata": {},
          "execution_count": 62
        }
      ]
    },
    {
      "cell_type": "markdown",
      "source": [
        "### Adding and Subtracting Matrices in Python"
      ],
      "metadata": {
        "id": "aaBR_q_x_W32"
      }
    },
    {
      "cell_type": "code",
      "source": [
        "sum = first_matrix + second_matrix\n",
        "sub = first_matrix - second_matrix\n",
        "\n",
        "print('first_matrix + second_matrix = \\n', sum , '\\n')\n",
        "print('first_matrix - second_matrix = \\n', sub)"
      ],
      "metadata": {
        "colab": {
          "base_uri": "https://localhost:8080/"
        },
        "id": "hGA2quLD_aOw",
        "outputId": "6f502971-f313-45ea-ea84-f4166e4cab3c"
      },
      "execution_count": null,
      "outputs": [
        {
          "output_type": "stream",
          "name": "stdout",
          "text": [
            "first_matrix + second_matrix = \n",
            " [[ 2 -7  4]\n",
            " [ 6  9  2]\n",
            " [ 8 11 17]] \n",
            "\n",
            "first_matrix - second_matrix = \n",
            " [[ 0 -7  4]\n",
            " [ 8  7 -8]\n",
            " [ 4 -7 -3]]\n"
          ]
        }
      ]
    },
    {
      "cell_type": "markdown",
      "source": [
        "### Ways to add row/columns in numpy array"
      ],
      "metadata": {
        "id": "3K-nKvHP_pT6"
      }
    },
    {
      "cell_type": "code",
      "source": [
        "row = np.array([10, 20, 30])\n",
        "new_array = np.r_[first_matrix, [row]]\n",
        "\n",
        "print('new arry with one more row: \\n', new_array, '\\n')\n",
        "\n",
        "col = np.array([[10], [20], [30]])\n",
        "new_array = np.append(first_matrix, col, axis = 1)\n",
        "\n",
        "print('new arry with one more col: \\n', new_array)"
      ],
      "metadata": {
        "colab": {
          "base_uri": "https://localhost:8080/"
        },
        "id": "i9DxxSuj_rD0",
        "outputId": "47c5b645-aa77-4d17-f2d1-9ac34a509adb"
      },
      "execution_count": null,
      "outputs": [
        {
          "output_type": "stream",
          "name": "stdout",
          "text": [
            "new arry with one more row: \n",
            " [[ 1 -7  4]\n",
            " [ 7  8 -3]\n",
            " [ 6  2  7]\n",
            " [10 20 30]] \n",
            "\n",
            "new arry with one more col: \n",
            " [[ 1 -7  4 10]\n",
            " [ 7  8 -3 20]\n",
            " [ 6  2  7 30]]\n"
          ]
        }
      ]
    },
    {
      "cell_type": "markdown",
      "source": [
        "### Matrix Multiplication in NumPy"
      ],
      "metadata": {
        "id": "NkggoiH-_1AK"
      }
    },
    {
      "cell_type": "code",
      "source": [
        "mult = first_matrix @ second_matrix\n",
        "\n",
        "print('first_matrix * second_matrix: \\n\\n', mult)"
      ],
      "metadata": {
        "colab": {
          "base_uri": "https://localhost:8080/"
        },
        "id": "KXkrXV-P_1V6",
        "outputId": "8cd0b977-ca3a-420e-ce93-f30d12f8965b"
      },
      "execution_count": null,
      "outputs": [
        {
          "output_type": "stream",
          "name": "stdout",
          "text": [
            "first_matrix * second_matrix: \n",
            "\n",
            " [[ 16  29   5]\n",
            " [ -7 -19  10]\n",
            " [ 18  65  80]]\n"
          ]
        }
      ]
    },
    {
      "cell_type": "markdown",
      "source": [
        "### Get the eigen values of a matrix"
      ],
      "metadata": {
        "id": "0dxUvUuFAjQZ"
      }
    },
    {
      "cell_type": "code",
      "source": [
        "eigen_values = np.linalg.eigvals(first_matrix)\n",
        "print(eigen_values)"
      ],
      "metadata": {
        "colab": {
          "base_uri": "https://localhost:8080/"
        },
        "id": "_L7y3q-OAlke",
        "outputId": "63083cf9-c46b-420a-88a6-4571f4f0d7c2"
      },
      "execution_count": null,
      "outputs": [
        {
          "output_type": "stream",
          "name": "stdout",
          "text": [
            "[3.1610968+5.55180163j 3.1610968-5.55180163j 9.6778064+0.j        ]\n"
          ]
        }
      ]
    },
    {
      "cell_type": "markdown",
      "source": [
        "### How to Calculate the determinant of a matrix using NumPy?"
      ],
      "metadata": {
        "id": "iAfH0vsHAo2W"
      }
    },
    {
      "cell_type": "code",
      "source": [
        "np.linalg.det(first_matrix)"
      ],
      "metadata": {
        "colab": {
          "base_uri": "https://localhost:8080/"
        },
        "id": "3KA-OKroAtYl",
        "outputId": "286e49d0-e002-44b6-bef2-883087e8c584"
      },
      "execution_count": null,
      "outputs": [
        {
          "output_type": "execute_result",
          "data": {
            "text/plain": [
              "395.00000000000006"
            ]
          },
          "metadata": {},
          "execution_count": 71
        }
      ]
    },
    {
      "cell_type": "markdown",
      "source": [
        "### How to inverse a matrix using NumPy"
      ],
      "metadata": {
        "id": "pKP5nn3hAv78"
      }
    },
    {
      "cell_type": "code",
      "source": [
        "inverse_matrix = np.linalg.inv(first_matrix)\n",
        "print(inverse_matrix)"
      ],
      "metadata": {
        "colab": {
          "base_uri": "https://localhost:8080/"
        },
        "id": "yJv0i9MhAyTD",
        "outputId": "9d154359-179a-4982-e8cb-02342d3bc3af"
      },
      "execution_count": null,
      "outputs": [
        {
          "output_type": "stream",
          "name": "stdout",
          "text": [
            "[[ 0.15696203  0.1443038  -0.0278481 ]\n",
            " [-0.16962025 -0.04303797  0.07848101]\n",
            " [-0.08607595 -0.11139241  0.1443038 ]]\n"
          ]
        }
      ]
    },
    {
      "cell_type": "markdown",
      "source": [
        "### How to count the frequency of unique values in NumPy array?"
      ],
      "metadata": {
        "id": "dMvIp4gFA8HE"
      }
    },
    {
      "cell_type": "code",
      "source": [
        "unique, counts = np.unique(np.array(first_matrix), return_counts=True)\n",
        "frequency = np.asarray((unique, counts)).T\n",
        "print(frequency)"
      ],
      "metadata": {
        "colab": {
          "base_uri": "https://localhost:8080/"
        },
        "id": "Op9UfhP-A_Cq",
        "outputId": "afff04ef-45b3-4309-bb26-8e09d99fb6a6"
      },
      "execution_count": null,
      "outputs": [
        {
          "output_type": "stream",
          "name": "stdout",
          "text": [
            "[[-7  1]\n",
            " [-3  1]\n",
            " [ 1  1]\n",
            " [ 2  1]\n",
            " [ 4  1]\n",
            " [ 6  1]\n",
            " [ 7  2]\n",
            " [ 8  1]]\n"
          ]
        }
      ]
    },
    {
      "cell_type": "markdown",
      "source": [
        "### Multiply matrices of complex numbers using NumPy in Python"
      ],
      "metadata": {
        "id": "w1nzJu3bBDM0"
      }
    },
    {
      "cell_type": "code",
      "source": [
        "first_complex_matrix = np.random.random((3, 3)).astype('complex')\n",
        "second_complex_matrix = np.random.random((3, 3)).astype('complex')\n",
        "mult = first_complex_matrix @ second_complex_matrix\n",
        "\n",
        "print('First Complex Matrix:\\n', first_complex_matrix)\n",
        "print('\\nSecond Complex Matrix::\\n', second_complex_matrix)\n",
        "print('\\nFirst * Second Complex Matrix:\\n', mult)"
      ],
      "metadata": {
        "colab": {
          "base_uri": "https://localhost:8080/"
        },
        "id": "WgCXKpMnBExL",
        "outputId": "60e2938c-39c5-4b0e-e23c-fe285681f43d"
      },
      "execution_count": null,
      "outputs": [
        {
          "output_type": "stream",
          "name": "stdout",
          "text": [
            "First Complex Matrix:\n",
            " [[0.45467006+0.j 0.57651499+0.j 0.72680001+0.j]\n",
            " [0.27479344+0.j 0.24443878+0.j 0.56822653+0.j]\n",
            " [0.55176943+0.j 0.31323404+0.j 0.29652473+0.j]]\n",
            "\n",
            "Second Complex Matrix::\n",
            " [[0.61968205+0.j 0.71211113+0.j 0.43370522+0.j]\n",
            " [0.87956124+0.j 0.53367807+0.j 0.19912905+0.j]\n",
            " [0.58556555+0.j 0.43515573+0.j 0.93984555+0.j]]\n",
            "\n",
            "First * Second Complex Matrix:\n",
            " [[1.21442016+0.j 0.9477202 +0.j 0.99507341+0.j]\n",
            " [0.71801732+0.j 0.57340211+0.j 0.70189939+0.j]\n",
            " [0.79106481+0.j 0.68912173+0.j 0.58036673+0.j]]\n"
          ]
        }
      ]
    },
    {
      "cell_type": "markdown",
      "source": [
        "### Compute the outer product of two given vectors using NumPy in Python"
      ],
      "metadata": {
        "id": "q0O21zXQBbXl"
      }
    },
    {
      "cell_type": "code",
      "source": [
        "u = np.array([7, 2, 0])\n",
        "v = np.array([-1, 1, 5])\n",
        "outer_product = np.outer(u, v)\n",
        "print(outer_product)"
      ],
      "metadata": {
        "colab": {
          "base_uri": "https://localhost:8080/"
        },
        "id": "d3t4lJ2eBdyR",
        "outputId": "0e98374a-7f80-4204-a6eb-196bf4c4d7d8"
      },
      "execution_count": null,
      "outputs": [
        {
          "output_type": "stream",
          "name": "stdout",
          "text": [
            "[[-7  7 35]\n",
            " [-2  2 10]\n",
            " [ 0  0  0]]\n"
          ]
        }
      ]
    },
    {
      "cell_type": "markdown",
      "source": [
        "### Calculate inner, outer, and cross products of matrices and vectors using NumPy"
      ],
      "metadata": {
        "id": "2WnS6FRbBm1r"
      }
    },
    {
      "cell_type": "code",
      "source": [
        "inner_product = np.inner(first_matrix, second_matrix)\n",
        "outer_product = np.outer(first_matrix, second_matrix)\n",
        "cross_product = np.cross(first_matrix, second_matrix)\n",
        "\n",
        "print('From the matrices: \\n')\n",
        "print('Inner product:\\n', inner_product)\n",
        "print('Outer product:\\n', outer_product)\n",
        "print('Cross product:\\n', cross_product, '\\n')\n",
        "\n",
        "inner_product = np.inner(u, v)\n",
        "outer_product = np.outer(u, v)\n",
        "cross_product = np.cross(u, v)\n",
        "\n",
        "print('From the vectors: \\n')\n",
        "print('Inner product:\\n', inner_product)\n",
        "print('Outer product:\\n', outer_product)\n",
        "print('Cross product:\\n', cross_product)"
      ],
      "metadata": {
        "colab": {
          "base_uri": "https://localhost:8080/"
        },
        "id": "16BepOvfBpUL",
        "outputId": "706a436e-8ecb-4afd-982e-29e72110b8be"
      },
      "execution_count": null,
      "outputs": [
        {
          "output_type": "stream",
          "name": "stdout",
          "text": [
            "From the matrices: \n",
            "\n",
            "Inner product:\n",
            " [[  1  12 -21]\n",
            " [  7 -14  56]\n",
            " [  6  31 100]]\n",
            "Outer product:\n",
            " [[  1   0   0  -1   1   5   2   9  10]\n",
            " [ -7   0   0   7  -7 -35 -14 -63 -70]\n",
            " [  4   0   0  -4   4  20   8  36  40]\n",
            " [  7   0   0  -7   7  35  14  63  70]\n",
            " [  8   0   0  -8   8  40  16  72  80]\n",
            " [ -3   0   0   3  -3 -15  -6 -27 -30]\n",
            " [  6   0   0  -6   6  30  12  54  60]\n",
            " [  2   0   0  -2   2  10   4  18  20]\n",
            " [  7   0   0  -7   7  35  14  63  70]]\n",
            "Cross product:\n",
            " [[  0   4   7]\n",
            " [ 43 -32  15]\n",
            " [-43 -46  50]] \n",
            "\n",
            "From the vectors: \n",
            "\n",
            "Inner product:\n",
            " -5\n",
            "Outer product:\n",
            " [[-7  7 35]\n",
            " [-2  2 10]\n",
            " [ 0  0  0]]\n",
            "Cross product:\n",
            " [ 10 -35   9]\n"
          ]
        }
      ]
    },
    {
      "cell_type": "markdown",
      "source": [
        "### Compute the covariance matrix of two given NumPy arrays"
      ],
      "metadata": {
        "id": "X1ursgEtByGd"
      }
    },
    {
      "cell_type": "code",
      "source": [
        "covariance = np.cov(first_matrix, second_matrix)\n",
        "print(covariance)"
      ],
      "metadata": {
        "colab": {
          "base_uri": "https://localhost:8080/"
        },
        "id": "IJP1OhIfCN54",
        "outputId": "35295899-cc4d-43e1-a01c-f607c88d2249"
      },
      "execution_count": null,
      "outputs": [
        {
          "output_type": "stream",
          "name": "stdout",
          "text": [
            "[[ 32.33333333 -26.5         15.           0.83333333   7.66666667\n",
            "   -3.5       ]\n",
            " [-26.5         37.         -11.5          1.5        -17.\n",
            "  -14.        ]\n",
            " [ 15.         -11.5          7.           0.5          3.\n",
            "   -2.5       ]\n",
            " [  0.83333333   1.5          0.5          0.33333333  -1.33333333\n",
            "   -2.5       ]\n",
            " [  7.66666667 -17.           3.          -1.33333333   9.33333333\n",
            "   11.        ]\n",
            " [ -3.5        -14.          -2.5         -2.5         11.\n",
            "   19.        ]]\n"
          ]
        }
      ]
    },
    {
      "cell_type": "markdown",
      "source": [
        "### Convert covariance matrix to correlation matrix using Python"
      ],
      "metadata": {
        "id": "q5x0Z_MECSCu"
      }
    },
    {
      "cell_type": "code",
      "source": [
        "correlation = np.corrcoef(covariance)\n",
        "print(correlation)"
      ],
      "metadata": {
        "colab": {
          "base_uri": "https://localhost:8080/"
        },
        "id": "UCfwiCR7CUAf",
        "outputId": "1e689d35-6070-47fd-91f4-8894901d10f8"
      },
      "execution_count": null,
      "outputs": [
        {
          "output_type": "stream",
          "name": "stdout",
          "text": [
            "[[ 1.         -0.88462302  0.998137   -0.02460199  0.70551818  0.17602124]\n",
            " [-0.88462302  1.         -0.8545244   0.48792923 -0.9545855  -0.61473859]\n",
            " [ 0.998137   -0.8545244   1.          0.03643793  0.6609647   0.1156334 ]\n",
            " [-0.02460199  0.48792923  0.03643793  1.         -0.72583447 -0.98841889]\n",
            " [ 0.70551818 -0.9545855   0.6609647  -0.72583447  1.          0.82181276]\n",
            " [ 0.17602124 -0.61473859  0.1156334  -0.98841889  0.82181276  1.        ]]\n"
          ]
        }
      ]
    },
    {
      "cell_type": "markdown",
      "source": [
        "### Compute the Kronecker product of two mulitdimension NumPy arrays"
      ],
      "metadata": {
        "id": "yzcwrlD7CWIV"
      }
    },
    {
      "cell_type": "code",
      "source": [
        "kronecker_product = np.kron(first_matrix, second_matrix)\n",
        "print(kronecker_product)"
      ],
      "metadata": {
        "colab": {
          "base_uri": "https://localhost:8080/"
        },
        "id": "1irajLHyCX1c",
        "outputId": "37736d97-a6e7-48ec-a0f2-e4377a61a5e3"
      },
      "execution_count": null,
      "outputs": [
        {
          "output_type": "stream",
          "name": "stdout",
          "text": [
            "[[  1   0   0  -7   0   0   4   0   0]\n",
            " [ -1   1   5   7  -7 -35  -4   4  20]\n",
            " [  2   9  10 -14 -63 -70   8  36  40]\n",
            " [  7   0   0   8   0   0  -3   0   0]\n",
            " [ -7   7  35  -8   8  40   3  -3 -15]\n",
            " [ 14  63  70  16  72  80  -6 -27 -30]\n",
            " [  6   0   0   2   0   0   7   0   0]\n",
            " [ -6   6  30  -2   2  10  -7   7  35]\n",
            " [ 12  54  60   4  18  20  14  63  70]]\n"
          ]
        }
      ]
    },
    {
      "cell_type": "markdown",
      "source": [
        "### Convert the matrix into a list"
      ],
      "metadata": {
        "id": "DNd5qVxrCbsf"
      }
    },
    {
      "cell_type": "code",
      "source": [
        "first_list = np.ravel(first_matrix)\n",
        "print(first_list)"
      ],
      "metadata": {
        "colab": {
          "base_uri": "https://localhost:8080/"
        },
        "id": "8Q5e-pnfCdUd",
        "outputId": "e17e6c41-96d4-4af9-a6b0-7ba71298fb0a"
      },
      "execution_count": null,
      "outputs": [
        {
          "output_type": "stream",
          "name": "stdout",
          "text": [
            "[ 1 -7  4  7  8 -3  6  2  7]\n"
          ]
        }
      ]
    },
    {
      "cell_type": "markdown",
      "source": [
        "# Questions on NumPy Indexing"
      ],
      "metadata": {
        "id": "M_jtn4jlClJu"
      }
    },
    {
      "cell_type": "code",
      "source": [
        "first_matrix = np.matrix('[0, 5, 2; 7, 8, -3; 6, 2, 7]')\n",
        "print(first_matrix)"
      ],
      "metadata": {
        "colab": {
          "base_uri": "https://localhost:8080/"
        },
        "id": "dkojnWGzCmN-",
        "outputId": "a4c1a855-9b68-4989-b9fc-ae9cb7a8934b"
      },
      "execution_count": null,
      "outputs": [
        {
          "output_type": "stream",
          "name": "stdout",
          "text": [
            "[[ 0  5  2]\n",
            " [ 7  8 -3]\n",
            " [ 6  2  7]]\n"
          ]
        }
      ]
    },
    {
      "cell_type": "markdown",
      "source": [
        "### Replace NumPy array elements that doesn’t satisfy the given condition"
      ],
      "metadata": {
        "id": "j6dTExMOC8sz"
      }
    },
    {
      "cell_type": "code",
      "source": [
        "# Replacing values with this setence value < 5 to -1 and keeping values that have value > 5\n",
        "replaced_matrix = np.select([first_matrix>5], [first_matrix], -1)\n",
        "print(replaced_matrix)"
      ],
      "metadata": {
        "colab": {
          "base_uri": "https://localhost:8080/"
        },
        "id": "gsdX9axgC-d0",
        "outputId": "1042fb56-43d3-490c-eb4c-f423e7a23125"
      },
      "execution_count": null,
      "outputs": [
        {
          "output_type": "stream",
          "name": "stdout",
          "text": [
            "[[-1 -1 -1]\n",
            " [ 7  8 -1]\n",
            " [ 6 -1  7]]\n"
          ]
        }
      ]
    },
    {
      "cell_type": "markdown",
      "source": [
        "### Return the indices of elements where the given condition is satisfied"
      ],
      "metadata": {
        "id": "NJoaOTeQDcVW"
      }
    },
    {
      "cell_type": "code",
      "source": [
        "row, col = np.where(first_matrix>5)\n",
        "new_array = np.asarray((row, col)).T\n",
        "print(new_array)"
      ],
      "metadata": {
        "colab": {
          "base_uri": "https://localhost:8080/"
        },
        "id": "Qs9TI_mSDnud",
        "outputId": "a562a655-db22-43d8-e9b7-9abebe2d9076"
      },
      "execution_count": null,
      "outputs": [
        {
          "output_type": "stream",
          "name": "stdout",
          "text": [
            "[[1 0]\n",
            " [1 1]\n",
            " [2 0]\n",
            " [2 2]]\n"
          ]
        }
      ]
    },
    {
      "cell_type": "markdown",
      "source": [
        "### Replace NaN values with average of columns"
      ],
      "metadata": {
        "id": "fBBQNHAlD4S_"
      }
    },
    {
      "cell_type": "code",
      "source": [
        "new_matrix = np.matrix([[np.nan, 1, 2], [0, -2, 3], [-3, np.nan, 4]])\n",
        "print(new_matrix, '\\n\\n')\n",
        "\n",
        "row, col = np.where(np.isnan(new_matrix))\n",
        "col_mean = np.nanmean(new_matrix, axis=0) \n",
        "new_matrix[row, col] = np.take(col_mean, col)\n",
        "print(new_matrix)"
      ],
      "metadata": {
        "colab": {
          "base_uri": "https://localhost:8080/"
        },
        "id": "nqOaYfr9D6ZO",
        "outputId": "1d3005b5-da03-49b9-f16d-b446b464cd48"
      },
      "execution_count": null,
      "outputs": [
        {
          "output_type": "stream",
          "name": "stdout",
          "text": [
            "[[nan  1.  2.]\n",
            " [ 0. -2.  3.]\n",
            " [-3. nan  4.]] \n",
            "\n",
            "\n",
            "[[-1.5  1.   2. ]\n",
            " [ 0.  -2.   3. ]\n",
            " [-3.  -0.5  4. ]]\n"
          ]
        }
      ]
    },
    {
      "cell_type": "markdown",
      "source": [
        "### Replace negative value with zero in numpy array"
      ],
      "metadata": {
        "id": "D6qMF_XNEEKH"
      }
    },
    {
      "cell_type": "code",
      "source": [
        "copy = first_matrix.copy()\n",
        "row, col = np.where(copy<0)\n",
        "copy[row, col] = 0\n",
        "print(copy)"
      ],
      "metadata": {
        "colab": {
          "base_uri": "https://localhost:8080/"
        },
        "id": "n4BIbwNFEHQb",
        "outputId": "d598fb8f-0a51-4229-b989-239f484be5f7"
      },
      "execution_count": null,
      "outputs": [
        {
          "output_type": "stream",
          "name": "stdout",
          "text": [
            "[[0 5 2]\n",
            " [7 8 0]\n",
            " [6 2 7]]\n"
          ]
        }
      ]
    },
    {
      "cell_type": "markdown",
      "source": [
        "### How to get values of an NumPy array at certain index positions?"
      ],
      "metadata": {
        "id": "Gpkn1Yk0EURZ"
      }
    },
    {
      "cell_type": "code",
      "source": [
        "print(first_matrix[0,0])  # value of position: line 0 col 0\n",
        "print(first_matrix[1,2])  # value of position: line 1 col 2\n",
        "print(first_matrix[-1,0])  # value of position: line 2 col 0\n",
        "print(first_matrix[-1,-1])  # value of position: line 2 col 2"
      ],
      "metadata": {
        "colab": {
          "base_uri": "https://localhost:8080/"
        },
        "id": "ZeFQUi4aEV4M",
        "outputId": "867c9d62-84b2-49b3-ddb1-b0467b98d7f5"
      },
      "execution_count": null,
      "outputs": [
        {
          "output_type": "stream",
          "name": "stdout",
          "text": [
            "0\n",
            "-3\n",
            "6\n",
            "7\n"
          ]
        }
      ]
    },
    {
      "cell_type": "markdown",
      "source": [
        "### Find indices of elements equal to zero in a NumPy array"
      ],
      "metadata": {
        "id": "K3fBj7ksEhTb"
      }
    },
    {
      "cell_type": "code",
      "source": [
        "row, col = np.where(first_matrix==0)\n",
        "new_array = np.asarray((row, col)).T\n",
        "print(new_array)"
      ],
      "metadata": {
        "colab": {
          "base_uri": "https://localhost:8080/"
        },
        "id": "ZCH8xAjDEjm-",
        "outputId": "24003b4d-3845-462c-f7f6-d81bd3044744"
      },
      "execution_count": null,
      "outputs": [
        {
          "output_type": "stream",
          "name": "stdout",
          "text": [
            "[[0 0]]\n"
          ]
        }
      ]
    },
    {
      "cell_type": "markdown",
      "source": [
        "### How to Remove columns in Numpy array that contains non-numeric values?"
      ],
      "metadata": {
        "id": "p-HzWrO3FDym"
      }
    },
    {
      "cell_type": "code",
      "source": [
        "new_array = np.array([[np.nan, 1, 2], [0, -2, 3], [-3, np.nan, 4]])\n",
        "new_array = new_array[:, ~np.isnan(new_array).any(axis=0)]\n",
        "print(new_array)"
      ],
      "metadata": {
        "colab": {
          "base_uri": "https://localhost:8080/"
        },
        "id": "5ZyIvY1GFMxA",
        "outputId": "64d0af02-8b27-48b0-8985-09b4c925fab4"
      },
      "execution_count": null,
      "outputs": [
        {
          "output_type": "stream",
          "name": "stdout",
          "text": [
            "[[2.]\n",
            " [3.]\n",
            " [4.]]\n"
          ]
        }
      ]
    },
    {
      "cell_type": "markdown",
      "source": [
        "### How to access different rows of a multidimensional NumPy array?"
      ],
      "metadata": {
        "id": "fUAcoxICFWNX"
      }
    },
    {
      "cell_type": "code",
      "source": [
        "print(first_matrix[1], '\\n')\n",
        "print(first_matrix[[0,2]])"
      ],
      "metadata": {
        "colab": {
          "base_uri": "https://localhost:8080/"
        },
        "id": "ZG85xl0qFYBW",
        "outputId": "3fcc0585-5369-4d03-87cd-e9bfe85dd05b"
      },
      "execution_count": null,
      "outputs": [
        {
          "output_type": "stream",
          "name": "stdout",
          "text": [
            "[[ 7  8 -3]] \n",
            "\n",
            "[[0 5 2]\n",
            " [6 2 7]]\n"
          ]
        }
      ]
    },
    {
      "cell_type": "markdown",
      "source": [
        "### Get row numbers of NumPy array having element larger than X"
      ],
      "metadata": {
        "id": "ROLM6mPtFdvJ"
      }
    },
    {
      "cell_type": "code",
      "source": [
        "x = 5\n",
        "row, col = np.where(first_matrix>x)\n",
        "print(np.unique(row))"
      ],
      "metadata": {
        "colab": {
          "base_uri": "https://localhost:8080/"
        },
        "id": "9uVr0IZVFf8B",
        "outputId": "d82e211e-b0c0-42a6-b957-164365ba63a5"
      },
      "execution_count": null,
      "outputs": [
        {
          "output_type": "stream",
          "name": "stdout",
          "text": [
            "[1 2]\n"
          ]
        }
      ]
    },
    {
      "cell_type": "markdown",
      "source": [
        "### Get filled the diagonals of NumPy array"
      ],
      "metadata": {
        "id": "Zy_ejL8qFm8A"
      }
    },
    {
      "cell_type": "code",
      "source": [
        "copy = first_matrix.copy()\n",
        "np.fill_diagonal(copy, 10)\n",
        "print(copy)"
      ],
      "metadata": {
        "colab": {
          "base_uri": "https://localhost:8080/"
        },
        "id": "NjC8mIACFr_o",
        "outputId": "78794e76-4dc1-44b1-8673-f7614a21df7f"
      },
      "execution_count": null,
      "outputs": [
        {
          "output_type": "stream",
          "name": "stdout",
          "text": [
            "[[10  5  2]\n",
            " [ 7 10 -3]\n",
            " [ 6  2 10]]\n"
          ]
        }
      ]
    },
    {
      "cell_type": "markdown",
      "source": [
        "### Check elements present in the NumPy array"
      ],
      "metadata": {
        "id": "bG6QJwr5F1Jx"
      }
    },
    {
      "cell_type": "code",
      "source": [
        "print(-5 in first_matrix)\n",
        "print(5 in first_matrix)\n",
        "print(23 in first_matrix)\n",
        "print(0 in first_matrix)"
      ],
      "metadata": {
        "colab": {
          "base_uri": "https://localhost:8080/"
        },
        "id": "pJ6eQdw6F3T5",
        "outputId": "227fcf35-70fc-4723-e033-caf673a3fe49"
      },
      "execution_count": null,
      "outputs": [
        {
          "output_type": "stream",
          "name": "stdout",
          "text": [
            "False\n",
            "True\n",
            "False\n",
            "True\n"
          ]
        }
      ]
    },
    {
      "cell_type": "markdown",
      "source": [
        "### Combined array index by index"
      ],
      "metadata": {
        "id": "w5DJtnZLF7MU"
      }
    },
    {
      "cell_type": "code",
      "source": [
        "print(first_matrix[1:,1:], '\\n')\n",
        "print(first_matrix[:2, :])  "
      ],
      "metadata": {
        "colab": {
          "base_uri": "https://localhost:8080/"
        },
        "id": "yYcB-3MAGAd2",
        "outputId": "ccaceac7-ff40-40b0-b1e7-5573a6233604"
      },
      "execution_count": null,
      "outputs": [
        {
          "output_type": "stream",
          "name": "stdout",
          "text": [
            "[[ 8 -3]\n",
            " [ 2  7]] \n",
            "\n",
            "[[ 0  5  2]\n",
            " [ 7  8 -3]]\n"
          ]
        }
      ]
    },
    {
      "cell_type": "markdown",
      "source": [
        "# Questions on NumPy Linear Algebra"
      ],
      "metadata": {
        "id": "rYx0YCvsGFvH"
      }
    },
    {
      "cell_type": "code",
      "source": [
        "algebra_matrix = np.matrix('[2, 0, 1; 5, 8, -3; 5, -4, 7]')\n",
        "print(algebra_matrix)"
      ],
      "metadata": {
        "colab": {
          "base_uri": "https://localhost:8080/"
        },
        "id": "fsHFlcj4GHrR",
        "outputId": "b420ee50-8ea4-4914-bebf-a159e0c27635"
      },
      "execution_count": null,
      "outputs": [
        {
          "output_type": "stream",
          "name": "stdout",
          "text": [
            "[[ 2  0  1]\n",
            " [ 5  8 -3]\n",
            " [ 5 -4  7]]\n"
          ]
        }
      ]
    },
    {
      "cell_type": "markdown",
      "source": [
        "### Find a matrix or vector norm using NumPy"
      ],
      "metadata": {
        "id": "JxpfDRD-GQUK"
      }
    },
    {
      "cell_type": "code",
      "source": [
        "np.linalg.norm(algebra_matrix)"
      ],
      "metadata": {
        "colab": {
          "base_uri": "https://localhost:8080/"
        },
        "id": "bdd8juBIGVT4",
        "outputId": "0ab24d2d-6065-42fa-b8e7-774cf3208b3d"
      },
      "execution_count": null,
      "outputs": [
        {
          "output_type": "execute_result",
          "data": {
            "text/plain": [
              "13.892443989449804"
            ]
          },
          "metadata": {},
          "execution_count": 118
        }
      ]
    },
    {
      "cell_type": "markdown",
      "source": [
        "### Calculate the QR decomposition of a given matrix using NumPy"
      ],
      "metadata": {
        "id": "fwcQSaRtGa6z"
      }
    },
    {
      "cell_type": "code",
      "source": [
        "q, r = np.linalg.qr(algebra_matrix)\n",
        "print(q, '\\n\\n', r)"
      ],
      "metadata": {
        "colab": {
          "base_uri": "https://localhost:8080/"
        },
        "id": "eENDynZ_Gc8n",
        "outputId": "5fd69069-24fe-42e6-f62c-5cea3efe52d1"
      },
      "execution_count": null,
      "outputs": [
        {
          "output_type": "stream",
          "name": "stdout",
          "text": [
            "[[-0.27216553  0.08694009 -0.95831485]\n",
            " [-0.68041382 -0.72160273  0.12777531]\n",
            " [-0.68041382  0.6868267   0.25555063]] \n",
            "\n",
            " [[-7.34846923 -2.72165527 -2.9938208 ]\n",
            " [ 0.         -8.52012867  7.05953519]\n",
            " [ 0.          0.          0.4472136 ]]\n"
          ]
        }
      ]
    },
    {
      "cell_type": "markdown",
      "source": [
        "### Compute the condition number of a given matrix using NumPy"
      ],
      "metadata": {
        "id": "1xpmmz8KGfnB"
      }
    },
    {
      "cell_type": "code",
      "source": [
        "np.linalg.cond(algebra_matrix)"
      ],
      "metadata": {
        "colab": {
          "base_uri": "https://localhost:8080/"
        },
        "id": "0iTQQfiUGhvq",
        "outputId": "6f7fc13f-7777-4df4-f197-1eca34dafc79"
      },
      "execution_count": null,
      "outputs": [
        {
          "output_type": "execute_result",
          "data": {
            "text/plain": [
              "36.71412223243211"
            ]
          },
          "metadata": {},
          "execution_count": 120
        }
      ]
    },
    {
      "cell_type": "markdown",
      "source": [
        "### Compute the eigenvalues and right eigenvectors of a given square array using NumPy?"
      ],
      "metadata": {
        "id": "vpesJfErGjxn"
      }
    },
    {
      "cell_type": "code",
      "source": [
        "eigen_values, eigen_vectors = np.linalg.eig(algebra_matrix)\n",
        "print(eigen_values, '\\n\\n', eigen_vectors)"
      ],
      "metadata": {
        "colab": {
          "base_uri": "https://localhost:8080/"
        },
        "id": "NNnI8NBFGlJ3",
        "outputId": "57bc032e-c479-4526-d4b7-0e719a4d2148"
      },
      "execution_count": null,
      "outputs": [
        {
          "output_type": "stream",
          "name": "stdout",
          "text": [
            "[ 0.45555832  5.63278991 10.91165178] \n",
            "\n",
            " [[-0.44651244  0.22137271  0.08570485]\n",
            " [ 0.57014152  0.55159367 -0.63977128]\n",
            " [ 0.68961242  0.80420056  0.76377182]]\n"
          ]
        }
      ]
    },
    {
      "cell_type": "markdown",
      "source": [
        "### Calculate the Euclidean distance using NumPy"
      ],
      "metadata": {
        "id": "P1phUzd_GoZZ"
      }
    },
    {
      "cell_type": "code",
      "source": [
        "array1 = np.array((4, 5, 10))\n",
        "array2 = np.array((1, -2, 0))\n",
        "print(np.linalg.norm(array1-array2))"
      ],
      "metadata": {
        "colab": {
          "base_uri": "https://localhost:8080/"
        },
        "id": "YcchqUwXGq0-",
        "outputId": "3f023484-05db-4b86-f877-6dd5b3a0eb33"
      },
      "execution_count": null,
      "outputs": [
        {
          "output_type": "stream",
          "name": "stdout",
          "text": [
            "12.569805089976535\n"
          ]
        }
      ]
    },
    {
      "cell_type": "markdown",
      "source": [
        "# Questions on NumPy Random"
      ],
      "metadata": {
        "id": "VwkgEo7xGxpx"
      }
    },
    {
      "cell_type": "markdown",
      "source": [
        "### Create a Numpy array with random values"
      ],
      "metadata": {
        "id": "SZ3DjpdCGzxx"
      }
    },
    {
      "cell_type": "code",
      "source": [
        "random_values = np.random.default_rng().random(5)\n",
        "print(random_values)"
      ],
      "metadata": {
        "colab": {
          "base_uri": "https://localhost:8080/"
        },
        "id": "aYmrYc_zG1Xg",
        "outputId": "d3814d9c-384d-453c-fee1-76e2307f6407"
      },
      "execution_count": null,
      "outputs": [
        {
          "output_type": "stream",
          "name": "stdout",
          "text": [
            "[0.69644735 0.0177988  0.61836598 0.73408007 0.42778341]\n"
          ]
        }
      ]
    },
    {
      "cell_type": "markdown",
      "source": [
        "### How to choose elements from the list with different probability using NumPy?"
      ],
      "metadata": {
        "id": "J6u_DlTCG6oh"
      }
    },
    {
      "cell_type": "code",
      "source": [
        "numbers = np.random.choice(random_values, size=5, p=[0.05, 0.35, 0.2, 0.15, 0.25])\n",
        "print(numbers)"
      ],
      "metadata": {
        "colab": {
          "base_uri": "https://localhost:8080/"
        },
        "id": "3kHe1ygVG8wr",
        "outputId": "432bb9c2-3353-41e5-adc0-ccf448054958"
      },
      "execution_count": null,
      "outputs": [
        {
          "output_type": "stream",
          "name": "stdout",
          "text": [
            "[0.0177988  0.42778341 0.73408007 0.0177988  0.0177988 ]\n"
          ]
        }
      ]
    },
    {
      "cell_type": "markdown",
      "source": [
        "### How to get weighted random choice in Python?"
      ],
      "metadata": {
        "id": "Xh3iZrhnHCJr"
      }
    },
    {
      "cell_type": "code",
      "source": [
        "number = np.random.choice(random_values, p=[0.05, 0.35, 0.2, 0.15, 0.25])\n",
        "print(number)"
      ],
      "metadata": {
        "colab": {
          "base_uri": "https://localhost:8080/"
        },
        "id": "lwx5hNABHDzh",
        "outputId": "00882166-dcad-4bf0-9a5e-98330c29d088"
      },
      "execution_count": null,
      "outputs": [
        {
          "output_type": "stream",
          "name": "stdout",
          "text": [
            "0.42778340547532523\n"
          ]
        }
      ]
    },
    {
      "cell_type": "markdown",
      "source": [
        "### Generate Random Numbers From The Uniform Distribution using NumPy"
      ],
      "metadata": {
        "id": "4FTybnl9HGfa"
      }
    },
    {
      "cell_type": "code",
      "source": [
        "numbers = np.random.uniform(low=0, high=1, size=5)\n",
        "print(numbers)"
      ],
      "metadata": {
        "colab": {
          "base_uri": "https://localhost:8080/"
        },
        "id": "EymqP0xkHH35",
        "outputId": "0ab56840-6120-44f1-9279-46993744e2e2"
      },
      "execution_count": null,
      "outputs": [
        {
          "output_type": "stream",
          "name": "stdout",
          "text": [
            "[0.9408807  0.09094064 0.40415048 0.4939231  0.72401198]\n"
          ]
        }
      ]
    },
    {
      "cell_type": "markdown",
      "source": [
        "### Get Random Elements form geometric distribution"
      ],
      "metadata": {
        "id": "rYEjKa71HLT9"
      }
    },
    {
      "cell_type": "code",
      "source": [
        "numbers = np.random.geometric(p=0.3, size=10)\n",
        "print(numbers)"
      ],
      "metadata": {
        "colab": {
          "base_uri": "https://localhost:8080/"
        },
        "id": "ylGU3uqNHKuU",
        "outputId": "6bee8366-67c9-4434-a945-ccb217edcdc9"
      },
      "execution_count": null,
      "outputs": [
        {
          "output_type": "stream",
          "name": "stdout",
          "text": [
            "[3 2 5 7 4 3 4 2 1 2]\n"
          ]
        }
      ]
    },
    {
      "cell_type": "markdown",
      "source": [
        "### Get Random elements from Laplace distribution"
      ],
      "metadata": {
        "id": "dyf-UEHaHPEc"
      }
    },
    {
      "cell_type": "code",
      "source": [
        "numbers = np.random.laplace(loc=0, scale=1, size=10)\n",
        "print(numbers)"
      ],
      "metadata": {
        "colab": {
          "base_uri": "https://localhost:8080/"
        },
        "id": "A_v1Z1xgHRnU",
        "outputId": "5ea59a6d-5ec8-400a-aa7f-da5426c0d56f"
      },
      "execution_count": null,
      "outputs": [
        {
          "output_type": "stream",
          "name": "stdout",
          "text": [
            "[ 4.92525479 -0.75153995  0.63238719 -0.74168994 -0.76161129 -0.52711229\n",
            "  3.39885229 -0.39971356 -0.86334332 -1.10046044]\n"
          ]
        }
      ]
    },
    {
      "cell_type": "markdown",
      "source": [
        "### Return a Matrix of random values from a uniform distribution"
      ],
      "metadata": {
        "id": "GVfxjgvWHTa-"
      }
    },
    {
      "cell_type": "code",
      "source": [
        "random_matrix_uniform = np.random.uniform(low=0, high=1, size=(3,3))\n",
        "print(random_matrix_uniform)"
      ],
      "metadata": {
        "colab": {
          "base_uri": "https://localhost:8080/"
        },
        "id": "45OhQyNvHUpT",
        "outputId": "f0a05230-854b-4833-a842-6932a27e29fb"
      },
      "execution_count": null,
      "outputs": [
        {
          "output_type": "stream",
          "name": "stdout",
          "text": [
            "[[0.1858431  0.29940689 0.20422291]\n",
            " [0.52625126 0.58453026 0.17821436]\n",
            " [0.87301979 0.39940845 0.84269915]]\n"
          ]
        }
      ]
    },
    {
      "cell_type": "markdown",
      "source": [
        "### Return a Matrix of random values from a Gaussian distribution"
      ],
      "metadata": {
        "id": "xAbD3XPmHVBz"
      }
    },
    {
      "cell_type": "code",
      "source": [
        "random_matrix_gaussian = np.random.normal(loc=0, scale=1, size=(3,3))\n",
        "print(random_matrix_gaussian)"
      ],
      "metadata": {
        "colab": {
          "base_uri": "https://localhost:8080/"
        },
        "id": "qGHuxQPVHVO5",
        "outputId": "6080f5f1-e603-44a0-a426-b2a4d020204e"
      },
      "execution_count": null,
      "outputs": [
        {
          "output_type": "stream",
          "name": "stdout",
          "text": [
            "[[ 0.83377925  0.22364961 -1.38378118]\n",
            " [-1.93226196 -0.10391147 -0.73059245]\n",
            " [-0.19259208 -1.34393842 -1.08269465]]\n"
          ]
        }
      ]
    },
    {
      "cell_type": "markdown",
      "source": [
        "# Questions on NumPy Sorting and Searching"
      ],
      "metadata": {
        "id": "diNRtYEoHe3T"
      }
    },
    {
      "cell_type": "code",
      "source": [
        "vector = np.array([5, -1, 2, 0, 4, -9, 3])"
      ],
      "metadata": {
        "id": "amfrysqSHihs"
      },
      "execution_count": null,
      "outputs": []
    },
    {
      "cell_type": "markdown",
      "source": [
        "### How to get the indices of the sorted array using NumPy in Python?"
      ],
      "metadata": {
        "id": "DMu5ff6rHo3V"
      }
    },
    {
      "cell_type": "code",
      "source": [
        "indices = np.argsort(vector)\n",
        "print(indices)"
      ],
      "metadata": {
        "colab": {
          "base_uri": "https://localhost:8080/"
        },
        "id": "IYchwYKNHrFi",
        "outputId": "97c12a06-c768-4b84-eb36-035da8325536"
      },
      "execution_count": null,
      "outputs": [
        {
          "output_type": "stream",
          "name": "stdout",
          "text": [
            "[5 1 3 2 6 4 0]\n"
          ]
        }
      ]
    },
    {
      "cell_type": "markdown",
      "source": [
        "### Finding the k smallest values of a NumPy array"
      ],
      "metadata": {
        "id": "sFrIR0KtHyAh"
      }
    },
    {
      "cell_type": "code",
      "source": [
        "k = 2\n",
        "k_smallest = np.sort(vector)[:k]\n",
        "print(k_smallest)"
      ],
      "metadata": {
        "colab": {
          "base_uri": "https://localhost:8080/"
        },
        "id": "OGJgvYErHzlA",
        "outputId": "7dd379be-0230-43c8-8bfa-28509ee917ea"
      },
      "execution_count": null,
      "outputs": [
        {
          "output_type": "stream",
          "name": "stdout",
          "text": [
            "[-9 -1]\n"
          ]
        }
      ]
    },
    {
      "cell_type": "markdown",
      "source": [
        "### How to get the n-largest values of an array using NumPy?"
      ],
      "metadata": {
        "id": "D8QpEMXzH3vc"
      }
    },
    {
      "cell_type": "code",
      "source": [
        "n = 4\n",
        "n_largest = np.sort(vector)[::-1][:n]\n",
        "print(n_largest)"
      ],
      "metadata": {
        "colab": {
          "base_uri": "https://localhost:8080/"
        },
        "id": "Xad7REZXH_3O",
        "outputId": "dbb1673c-16b1-4fb6-b162-d5629bf5a46d"
      },
      "execution_count": null,
      "outputs": [
        {
          "output_type": "stream",
          "name": "stdout",
          "text": [
            "[5 4 3 2]\n"
          ]
        }
      ]
    },
    {
      "cell_type": "markdown",
      "source": [
        "### Sort the values in a matrix"
      ],
      "metadata": {
        "id": "GEMGrxnrIDCu"
      }
    },
    {
      "cell_type": "code",
      "source": [
        "new_matrix = np.matrix('[53, 0.2, 1; 6.5, 29, -3.11; 9, -4, 2.9]')\n",
        "print(new_matrix, '\\n')\n",
        "sorted_m = np.sort(new_matrix, axis=1)\n",
        "print(sorted_m)"
      ],
      "metadata": {
        "colab": {
          "base_uri": "https://localhost:8080/"
        },
        "id": "Zj1d9gwlIFQr",
        "outputId": "cd6a0fdc-39b6-4af4-a36d-53ca624c630b"
      },
      "execution_count": null,
      "outputs": [
        {
          "output_type": "stream",
          "name": "stdout",
          "text": [
            "[[53.    0.2   1.  ]\n",
            " [ 6.5  29.   -3.11]\n",
            " [ 9.   -4.    2.9 ]] \n",
            "\n",
            "[[ 0.2   1.   53.  ]\n",
            " [-3.11  6.5  29.  ]\n",
            " [-4.    2.9   9.  ]]\n"
          ]
        }
      ]
    },
    {
      "cell_type": "markdown",
      "source": [
        "### Filter out integers from float numpy array"
      ],
      "metadata": {
        "id": "HcDyit6PKC4B"
      }
    },
    {
      "cell_type": "code",
      "source": [
        "integers_indices = np.isclose(new_matrix, new_matrix.astype(int))\n",
        "print(new_matrix[~integers_indices])"
      ],
      "metadata": {
        "colab": {
          "base_uri": "https://localhost:8080/"
        },
        "id": "0KdD7nOrKFDi",
        "outputId": "bae5a5c1-f76d-4c02-fdc9-255fd934bef7"
      },
      "execution_count": null,
      "outputs": [
        {
          "output_type": "stream",
          "name": "stdout",
          "text": [
            "[[ 0.2   6.5  -3.11  2.9 ]]\n"
          ]
        }
      ]
    },
    {
      "cell_type": "markdown",
      "source": [
        "### Find the indices into a sorted array"
      ],
      "metadata": {
        "id": "NR9S78kSKOtY"
      }
    },
    {
      "cell_type": "code",
      "source": [
        "indices = np.argsort(new_matrix, axis=1)\n",
        "print(indices)"
      ],
      "metadata": {
        "colab": {
          "base_uri": "https://localhost:8080/"
        },
        "id": "mp0sWB_QKQXf",
        "outputId": "debaa524-ad4a-4eeb-83a7-5964b140977d"
      },
      "execution_count": null,
      "outputs": [
        {
          "output_type": "stream",
          "name": "stdout",
          "text": [
            "[[1 2 0]\n",
            " [2 0 1]\n",
            " [1 2 0]]\n"
          ]
        }
      ]
    },
    {
      "cell_type": "markdown",
      "source": [
        "# Questions on NumPy Mathematics"
      ],
      "metadata": {
        "id": "rlu4qB0AKUrR"
      }
    },
    {
      "cell_type": "markdown",
      "source": [
        "### How to get element-wise true division of an array using Numpy?"
      ],
      "metadata": {
        "id": "bqF2_tmMKXNo"
      }
    },
    {
      "cell_type": "code",
      "source": [
        "vector1 = np.array([5, -1, 0])\n",
        "vector2 = np.array([2, 3, -6])\n",
        "\n",
        "first_matrix = np.array([[1, 2, 3], [0, -1, -5], [-1, 4, 7]])\n",
        "second_matrix = np.array([[2, 8, 5], [2, 0, 1], [1, -2, 0]])"
      ],
      "metadata": {
        "id": "b_16B5TdKZQE"
      },
      "execution_count": null,
      "outputs": []
    },
    {
      "cell_type": "code",
      "source": [
        "vector = np.true_divide(vector1, vector2)\n",
        "print(vector)"
      ],
      "metadata": {
        "colab": {
          "base_uri": "https://localhost:8080/"
        },
        "id": "I2mkJQ9NKaY4",
        "outputId": "9d5e25bd-a746-4d17-cd80-f1a57dcae388"
      },
      "execution_count": null,
      "outputs": [
        {
          "output_type": "stream",
          "name": "stdout",
          "text": [
            "[ 2.5        -0.33333333 -0.        ]\n"
          ]
        }
      ]
    },
    {
      "cell_type": "markdown",
      "source": [
        "### How to calculate the element-wise absolute value of NumPy array?"
      ],
      "metadata": {
        "id": "_M8yD2JCK24v"
      }
    },
    {
      "cell_type": "code",
      "source": [
        "vector = np.abs(vector1)\n",
        "print(vector)"
      ],
      "metadata": {
        "colab": {
          "base_uri": "https://localhost:8080/"
        },
        "id": "fz1VBWaMK4uG",
        "outputId": "f57d03ad-5f75-4539-e406-3c18e7491684"
      },
      "execution_count": null,
      "outputs": [
        {
          "output_type": "stream",
          "name": "stdout",
          "text": [
            "[5 1 0]\n"
          ]
        }
      ]
    },
    {
      "cell_type": "markdown",
      "source": [
        "### Compute the negative of the NumPy array"
      ],
      "metadata": {
        "id": "e_ejYpKhK9Hu"
      }
    },
    {
      "cell_type": "code",
      "source": [
        "vector = np.negative(vector1)\n",
        "print(vector)"
      ],
      "metadata": {
        "colab": {
          "base_uri": "https://localhost:8080/"
        },
        "id": "E8qWaaqmK-n2",
        "outputId": "34d7958c-ead8-4633-b01c-1e8bf8fc7ff0"
      },
      "execution_count": null,
      "outputs": [
        {
          "output_type": "stream",
          "name": "stdout",
          "text": [
            "[-5  1  0]\n"
          ]
        }
      ]
    },
    {
      "cell_type": "markdown",
      "source": [
        "### Multiply 2d numpy array corresponding to 1d array"
      ],
      "metadata": {
        "id": "7Cryk__JLCMH"
      }
    },
    {
      "cell_type": "code",
      "source": [
        "m = first_matrix * vector1[:, np.newaxis]\n",
        "print(m)"
      ],
      "metadata": {
        "colab": {
          "base_uri": "https://localhost:8080/"
        },
        "id": "8bquaC5PLFZy",
        "outputId": "2ca0d95c-d09c-494c-a3c6-aad74585c799"
      },
      "execution_count": null,
      "outputs": [
        {
          "output_type": "stream",
          "name": "stdout",
          "text": [
            "[[ 5 10 15]\n",
            " [ 0  1  5]\n",
            " [ 0  0  0]]\n"
          ]
        }
      ]
    },
    {
      "cell_type": "markdown",
      "source": [
        "### Computes the inner product of two arrays"
      ],
      "metadata": {
        "id": "7HPbOLcbLJSp"
      }
    },
    {
      "cell_type": "code",
      "source": [
        "u = np.array([2, 0, 4])\n",
        "v = np.array([-1, 2, 3])\n",
        "innerr_product = np.inner(u, v)\n",
        "\n",
        "print(inner_product)"
      ],
      "metadata": {
        "colab": {
          "base_uri": "https://localhost:8080/"
        },
        "id": "WHxJ55qnLLfA",
        "outputId": "876030c3-c599-4c44-ba96-bb6dfc5afa4c"
      },
      "execution_count": null,
      "outputs": [
        {
          "output_type": "stream",
          "name": "stdout",
          "text": [
            "-5\n"
          ]
        }
      ]
    },
    {
      "cell_type": "markdown",
      "source": [
        "### Compute the nth percentile of the NumPy array"
      ],
      "metadata": {
        "id": "CZ3h-phXLNiv"
      }
    },
    {
      "cell_type": "code",
      "source": [
        "np.percentile(first_matrix, q=50)"
      ],
      "metadata": {
        "colab": {
          "base_uri": "https://localhost:8080/"
        },
        "id": "ZnwZ2QauLOah",
        "outputId": "66af8e96-a04d-40e4-c3d3-40d784838053"
      },
      "execution_count": null,
      "outputs": [
        {
          "output_type": "execute_result",
          "data": {
            "text/plain": [
              "1.0"
            ]
          },
          "metadata": {},
          "execution_count": 149
        }
      ]
    },
    {
      "cell_type": "markdown",
      "source": [
        "### Calculate the n-th order discrete difference along the given axis"
      ],
      "metadata": {
        "id": "x5zBPlJDLSkZ"
      }
    },
    {
      "cell_type": "code",
      "source": [
        "m = np.diff(first_matrix, axis=0)\n",
        "print(m,'\\n')\n",
        "m = np.diff(first_matrix, axis=1)\n",
        "print(m)"
      ],
      "metadata": {
        "colab": {
          "base_uri": "https://localhost:8080/"
        },
        "id": "fgA1469kLUIk",
        "outputId": "5fd231dd-4d60-47bc-eebe-55ee4870ffe9"
      },
      "execution_count": null,
      "outputs": [
        {
          "output_type": "stream",
          "name": "stdout",
          "text": [
            "[[-1 -3 -8]\n",
            " [-1  5 12]] \n",
            "\n",
            "[[ 1  1]\n",
            " [-1 -4]\n",
            " [ 5  3]]\n"
          ]
        }
      ]
    },
    {
      "cell_type": "markdown",
      "source": [
        "### Calculate the sum of all columns in a 2D NumPy array"
      ],
      "metadata": {
        "id": "lGOq9JhDLXSY"
      }
    },
    {
      "cell_type": "code",
      "source": [
        "sum = np.sum(first_matrix, axis=0)\n",
        "print(sum)"
      ],
      "metadata": {
        "colab": {
          "base_uri": "https://localhost:8080/"
        },
        "id": "NiJQSX1oLYj_",
        "outputId": "925693b3-c3c2-44df-8a6c-2e88286d1439"
      },
      "execution_count": null,
      "outputs": [
        {
          "output_type": "stream",
          "name": "stdout",
          "text": [
            "[0 5 5]\n"
          ]
        }
      ]
    },
    {
      "cell_type": "markdown",
      "source": [
        "### Calculate average values of two given NumPy arrays"
      ],
      "metadata": {
        "id": "rA3kPnuPLaLA"
      }
    },
    {
      "cell_type": "code",
      "source": [
        "avg = (first_matrix + first_matrix) / 2\n",
        "print(avg)"
      ],
      "metadata": {
        "colab": {
          "base_uri": "https://localhost:8080/"
        },
        "id": "p3_FUe-sLdOa",
        "outputId": "be884670-6935-4fce-852b-6e1f94fe533e"
      },
      "execution_count": null,
      "outputs": [
        {
          "output_type": "stream",
          "name": "stdout",
          "text": [
            "[[ 1.  2.  3.]\n",
            " [ 0. -1. -5.]\n",
            " [-1.  4.  7.]]\n"
          ]
        }
      ]
    },
    {
      "cell_type": "markdown",
      "source": [
        "### How to compute numerical negative value for all elements in a given NumPy array?"
      ],
      "metadata": {
        "id": "wbwp6RDzLfph"
      }
    },
    {
      "cell_type": "code",
      "source": [
        "negative_m1 = np.negative(first_matrix)\n",
        "print(negative_m1)"
      ],
      "metadata": {
        "colab": {
          "base_uri": "https://localhost:8080/"
        },
        "id": "KnV_4IjmLhUq",
        "outputId": "a6ef662c-69d8-46b3-8278-64d5e608d3f8"
      },
      "execution_count": null,
      "outputs": [
        {
          "output_type": "stream",
          "name": "stdout",
          "text": [
            "[[-1 -2 -3]\n",
            " [ 0  1  5]\n",
            " [ 1 -4 -7]]\n"
          ]
        }
      ]
    },
    {
      "cell_type": "markdown",
      "source": [
        "### How to get the floor, ceiling and truncated values of the elements of a numpy array?"
      ],
      "metadata": {
        "id": "6nFf8aa_Lkkw"
      }
    },
    {
      "cell_type": "code",
      "source": [
        "m = np.array([[2.9, 1.8], [-5.6, 0.3]])\n",
        "\n",
        "floor_m = np.floor(m)\n",
        "ceiling_m = np.ceil(m)\n",
        "truncated_m = np.trunc(m)\n",
        "\n",
        "print(floor_m, '\\n\\n', ceiling_m, '\\n\\n', truncated_m)"
      ],
      "metadata": {
        "colab": {
          "base_uri": "https://localhost:8080/"
        },
        "id": "JAMFpdSNLnUy",
        "outputId": "780b89e7-f9f7-4595-bb11-371d248ea395"
      },
      "execution_count": null,
      "outputs": [
        {
          "output_type": "stream",
          "name": "stdout",
          "text": [
            "[[ 2.  1.]\n",
            " [-6.  0.]] \n",
            "\n",
            " [[ 3.  2.]\n",
            " [-5.  1.]] \n",
            "\n",
            " [[ 2.  1.]\n",
            " [-5.  0.]]\n"
          ]
        }
      ]
    },
    {
      "cell_type": "markdown",
      "source": [
        "### How to round elements of the NumPy array to the nearest integer?"
      ],
      "metadata": {
        "id": "3fyYW-HHLj5K"
      }
    },
    {
      "cell_type": "code",
      "source": [
        "round_m = np.round(m)\n",
        "print(round_m)"
      ],
      "metadata": {
        "colab": {
          "base_uri": "https://localhost:8080/"
        },
        "id": "-5vr5GFkLyWp",
        "outputId": "7e27bb74-0f3c-4c9e-e568-d5915d43e710"
      },
      "execution_count": null,
      "outputs": [
        {
          "output_type": "stream",
          "name": "stdout",
          "text": [
            "[[ 3.  2.]\n",
            " [-6.  0.]]\n"
          ]
        }
      ]
    },
    {
      "cell_type": "markdown",
      "source": [
        "### Find the round off the values of the given matrix"
      ],
      "metadata": {
        "id": "c4Kh8cXPLj0i"
      }
    },
    {
      "cell_type": "code",
      "source": [
        "round_m = m.round()\n",
        "print(round_m)"
      ],
      "metadata": {
        "colab": {
          "base_uri": "https://localhost:8080/"
        },
        "id": "Z2gw-tBML2sR",
        "outputId": "7633ac8a-81a6-40a1-f224-44bf9018c0fb"
      },
      "execution_count": null,
      "outputs": [
        {
          "output_type": "stream",
          "name": "stdout",
          "text": [
            "[[ 3.  2.]\n",
            " [-6.  0.]]\n"
          ]
        }
      ]
    },
    {
      "cell_type": "markdown",
      "source": [
        "### Determine the positive square-root of an array"
      ],
      "metadata": {
        "id": "jp8_yCUML39i"
      }
    },
    {
      "cell_type": "code",
      "source": [
        "m = np.array([[3.9, 2.1], [7.5, 0.5]])\n",
        "\n",
        "square_m = np.sqrt(np.positive(m))\n",
        "print(square_m)"
      ],
      "metadata": {
        "colab": {
          "base_uri": "https://localhost:8080/"
        },
        "id": "B9glsH-ZL6cq",
        "outputId": "b869e2ad-d174-44c8-ccde-99d8534daebd"
      },
      "execution_count": null,
      "outputs": [
        {
          "output_type": "stream",
          "name": "stdout",
          "text": [
            "[[1.97484177 1.44913767]\n",
            " [2.73861279 0.70710678]]\n"
          ]
        }
      ]
    },
    {
      "cell_type": "markdown",
      "source": [
        "### Evaluate Einstein’s summation convention of two multidimensional NumPy arrays"
      ],
      "metadata": {
        "id": "gad6gsCzMBYG"
      }
    },
    {
      "cell_type": "code",
      "source": [
        "result = np.einsum('mk,kn', first_matrix, second_matrix)\n",
        "print(result)"
      ],
      "metadata": {
        "colab": {
          "base_uri": "https://localhost:8080/"
        },
        "id": "qf7pWTKIMCKF",
        "outputId": "6ec24415-6050-4787-da88-100280c2bf5e"
      },
      "execution_count": null,
      "outputs": [
        {
          "output_type": "stream",
          "name": "stdout",
          "text": [
            "[[  9   2   7]\n",
            " [ -7  10  -1]\n",
            " [ 13 -22  -1]]\n"
          ]
        }
      ]
    },
    {
      "cell_type": "markdown",
      "source": [
        "# Questions on NumPy Statistics"
      ],
      "metadata": {
        "id": "sH-xy-R8MHzi"
      }
    },
    {
      "cell_type": "code",
      "source": [
        "m = np.array([[3, 2, 1], [0, -2, 6], [-3, 2, -7]])\n",
        "vector1 = np.array([6, -5, 0, -1, -4, 8, 11, 3])\n",
        "vector2 = np.array([3, 12, 2, 0, -2, 6, 2, -1])\n",
        "vector3 = np.array([6, np.nan, 0, -5, -1, np.nan, 10, 4])"
      ],
      "metadata": {
        "id": "U_DSF__RMIpE"
      },
      "execution_count": null,
      "outputs": []
    },
    {
      "cell_type": "markdown",
      "source": [
        "### Compute the median of the flattened NumPy array"
      ],
      "metadata": {
        "id": "zFaJILXANSJX"
      }
    },
    {
      "cell_type": "code",
      "source": [
        "np.median(m)"
      ],
      "metadata": {
        "colab": {
          "base_uri": "https://localhost:8080/"
        },
        "id": "05YgY_RUNTHk",
        "outputId": "d9ca2b57-c325-4d3d-d36a-d861bb3784c6"
      },
      "execution_count": null,
      "outputs": [
        {
          "output_type": "execute_result",
          "data": {
            "text/plain": [
              "1.0"
            ]
          },
          "metadata": {},
          "execution_count": 161
        }
      ]
    },
    {
      "cell_type": "markdown",
      "source": [
        "### Find Mean of a List of Numpy Array"
      ],
      "metadata": {
        "id": "y0BgdgwONXfV"
      }
    },
    {
      "cell_type": "code",
      "source": [
        "np.mean(vector1)"
      ],
      "metadata": {
        "colab": {
          "base_uri": "https://localhost:8080/"
        },
        "id": "a9z5QfLnNY8f",
        "outputId": "873f5e3f-5605-49cf-8819-0e34fa0e501d"
      },
      "execution_count": null,
      "outputs": [
        {
          "output_type": "execute_result",
          "data": {
            "text/plain": [
              "2.25"
            ]
          },
          "metadata": {},
          "execution_count": 162
        }
      ]
    },
    {
      "cell_type": "markdown",
      "source": [
        "### Calculate the mean of array ignoring the NaN value"
      ],
      "metadata": {
        "id": "0fKOrosUNa4H"
      }
    },
    {
      "cell_type": "code",
      "source": [
        "np.nanmean(vector3)"
      ],
      "metadata": {
        "id": "xwKF1L0RNdN_"
      },
      "execution_count": null,
      "outputs": []
    },
    {
      "cell_type": "markdown",
      "source": [
        "### Get the mean value from given matrix"
      ],
      "metadata": {
        "id": "UvrlsInYNhMt"
      }
    },
    {
      "cell_type": "code",
      "source": [
        "np.mean(m)"
      ],
      "metadata": {
        "colab": {
          "base_uri": "https://localhost:8080/"
        },
        "id": "46xtwsB6NjQX",
        "outputId": "5843f6de-3fcc-4519-cc17-a44c6406a649"
      },
      "execution_count": null,
      "outputs": [
        {
          "output_type": "execute_result",
          "data": {
            "text/plain": [
              "0.2222222222222222"
            ]
          },
          "metadata": {},
          "execution_count": 163
        }
      ]
    },
    {
      "cell_type": "markdown",
      "source": [
        "### Compute the variance of the NumPy array"
      ],
      "metadata": {
        "id": "xJIHJYEdNkcn"
      }
    },
    {
      "cell_type": "code",
      "source": [
        "np.var(vector1)"
      ],
      "metadata": {
        "colab": {
          "base_uri": "https://localhost:8080/"
        },
        "id": "b4DTIx_DNmUg",
        "outputId": "f9f8fc92-4755-4a38-e81f-782ce0d56b80"
      },
      "execution_count": null,
      "outputs": [
        {
          "output_type": "execute_result",
          "data": {
            "text/plain": [
              "28.9375"
            ]
          },
          "metadata": {},
          "execution_count": 164
        }
      ]
    },
    {
      "cell_type": "markdown",
      "source": [
        "### Compute the standard deviation of the NumPy array"
      ],
      "metadata": {
        "id": "tzZOU1-ZNqEX"
      }
    },
    {
      "cell_type": "code",
      "source": [
        "np.std(vector1)"
      ],
      "metadata": {
        "colab": {
          "base_uri": "https://localhost:8080/"
        },
        "id": "nxCrpGBiNsI2",
        "outputId": "62739285-c305-4b41-a7c4-d89a9e906b81"
      },
      "execution_count": null,
      "outputs": [
        {
          "output_type": "execute_result",
          "data": {
            "text/plain": [
              "5.379358697837503"
            ]
          },
          "metadata": {},
          "execution_count": 165
        }
      ]
    },
    {
      "cell_type": "markdown",
      "source": [
        "### Compute pearson product-moment correlation coefficients of two given NumPy arrays"
      ],
      "metadata": {
        "id": "VI_VdD9SNuNv"
      }
    },
    {
      "cell_type": "code",
      "source": [
        "coefficients = np.corrcoef(vector1, vector2)\n",
        "print(coefficients)"
      ],
      "metadata": {
        "colab": {
          "base_uri": "https://localhost:8080/"
        },
        "id": "IgdagT7aNweA",
        "outputId": "f6c7f477-b676-4595-d786-ce3c60cf93a6"
      },
      "execution_count": null,
      "outputs": [
        {
          "output_type": "stream",
          "name": "stdout",
          "text": [
            "[[ 1.         -0.09116544]\n",
            " [-0.09116544  1.        ]]\n"
          ]
        }
      ]
    },
    {
      "cell_type": "markdown",
      "source": [
        "### Calculate the mean across dimension in a 2D NumPy array"
      ],
      "metadata": {
        "id": "Ke7yganpN0cd"
      }
    },
    {
      "cell_type": "code",
      "source": [
        "mean_0 = np.mean(m, axis=0)\n",
        "print(mean_0, '\\n')\n",
        "\n",
        "mean_1 = np.mean(m, axis=1)\n",
        "print(mean_1)"
      ],
      "metadata": {
        "colab": {
          "base_uri": "https://localhost:8080/"
        },
        "id": "a26HLxj-N2Iw",
        "outputId": "1e80348c-3a66-4ba1-ef78-7a286d2cf432"
      },
      "execution_count": null,
      "outputs": [
        {
          "output_type": "stream",
          "name": "stdout",
          "text": [
            "[0.         0.66666667 0.        ] \n",
            "\n",
            "[ 2.          1.33333333 -2.66666667]\n"
          ]
        }
      ]
    },
    {
      "cell_type": "markdown",
      "source": [
        "### Calculate the average, variance and standard deviation in Python using NumPy"
      ],
      "metadata": {
        "id": "9xmYXSuXN3MP"
      }
    },
    {
      "cell_type": "code",
      "source": [
        "print(np.average(m))\n",
        "print(np.var(m))\n",
        "print(np.std(m))"
      ],
      "metadata": {
        "colab": {
          "base_uri": "https://localhost:8080/"
        },
        "id": "V8ioO5HsN_GX",
        "outputId": "678fbc38-9f38-4372-d1ff-d01aec212608"
      },
      "execution_count": null,
      "outputs": [
        {
          "output_type": "stream",
          "name": "stdout",
          "text": [
            "0.2222222222222222\n",
            "12.839506172839506\n",
            "3.5832256659104664\n"
          ]
        }
      ]
    },
    {
      "cell_type": "markdown",
      "source": [
        "### Describe a NumPy Array in Python"
      ],
      "metadata": {
        "id": "5czSNaztN-au"
      }
    },
    {
      "cell_type": "code",
      "source": [
        "print('size: ', m.size)\n",
        "print('minimun: ', np.amin(m))\n",
        "print('maximum: ', np.amax(m))\n",
        "print('average: ', np.mean(m))\n",
        "print('median: ', np.median(m))\n",
        "print('variance: ', np.var(m))\n",
        "print('standard deviation: ', np.std(m))"
      ],
      "metadata": {
        "colab": {
          "base_uri": "https://localhost:8080/"
        },
        "id": "BLAoIh0gODUH",
        "outputId": "6040d604-21d1-4045-c87f-233cfd662c96"
      },
      "execution_count": null,
      "outputs": [
        {
          "output_type": "stream",
          "name": "stdout",
          "text": [
            "size:  9\n",
            "minimun:  -7\n",
            "maximum:  6\n",
            "average:  0.2222222222222222\n",
            "median:  1.0\n",
            "variance:  12.839506172839506\n",
            "standard deviation:  3.5832256659104664\n"
          ]
        }
      ]
    },
    {
      "cell_type": "markdown",
      "source": [
        "# Questions on Polynomial"
      ],
      "metadata": {
        "id": "_A40U_84Od5K"
      }
    },
    {
      "cell_type": "markdown",
      "source": [
        "### Define a polynomial function"
      ],
      "metadata": {
        "id": "O4NmKuqbOgBS"
      }
    },
    {
      "cell_type": "code",
      "source": [
        "first_pol_func = np.poly1d([4, -3, 2])\n",
        "second_pol_func = np.poly1d([1, -1, 0, 5])\n",
        "print(first_pol_func)\n",
        "print(second_pol_func)"
      ],
      "metadata": {
        "colab": {
          "base_uri": "https://localhost:8080/"
        },
        "id": "YnBbi-DZOhiV",
        "outputId": "822f30cc-d3ab-47f2-927b-bc2a261c3749"
      },
      "execution_count": null,
      "outputs": [
        {
          "output_type": "stream",
          "name": "stdout",
          "text": [
            "   2\n",
            "4 x - 3 x + 2\n",
            "   3     2\n",
            "1 x - 1 x + 5\n"
          ]
        }
      ]
    },
    {
      "cell_type": "markdown",
      "source": [
        "### How to add one polynomial to another using NumPy in Python?"
      ],
      "metadata": {
        "id": "LD-HanDiOsSG"
      }
    },
    {
      "cell_type": "code",
      "source": [
        "sum = first_pol_func + second_pol_func\n",
        "print(sum)"
      ],
      "metadata": {
        "colab": {
          "base_uri": "https://localhost:8080/"
        },
        "id": "gxDaF10COwmu",
        "outputId": "c4c18579-f012-41d3-806a-940878914fa3"
      },
      "execution_count": null,
      "outputs": [
        {
          "output_type": "stream",
          "name": "stdout",
          "text": [
            "   3     2\n",
            "1 x + 3 x - 3 x + 7\n"
          ]
        }
      ]
    },
    {
      "cell_type": "markdown",
      "source": [
        "### How to subtract one polynomial to another using NumPy in Python?"
      ],
      "metadata": {
        "id": "NhMWS9UwO0GR"
      }
    },
    {
      "cell_type": "code",
      "source": [
        "subtraction = first_pol_func - second_pol_func\n",
        "print(subtraction)"
      ],
      "metadata": {
        "colab": {
          "base_uri": "https://localhost:8080/"
        },
        "id": "QGsqrDJ3OzlO",
        "outputId": "ef570cb3-ef46-483d-a857-fced5ed6ccda"
      },
      "execution_count": null,
      "outputs": [
        {
          "output_type": "stream",
          "name": "stdout",
          "text": [
            "    3     2\n",
            "-1 x + 5 x - 3 x - 3\n"
          ]
        }
      ]
    },
    {
      "cell_type": "markdown",
      "source": [
        "### How to multiply a polynomial to another using NumPy in Python?"
      ],
      "metadata": {
        "id": "AEmmLNEwPP0c"
      }
    },
    {
      "cell_type": "code",
      "source": [
        "multiplication = first_pol_func * second_pol_func\n",
        "print(multiplication)"
      ],
      "metadata": {
        "colab": {
          "base_uri": "https://localhost:8080/"
        },
        "id": "vkWJ3lW0Pw_w",
        "outputId": "7b48858b-a6ad-422d-d306-33829691f11f"
      },
      "execution_count": null,
      "outputs": [
        {
          "output_type": "stream",
          "name": "stdout",
          "text": [
            "   5     4     3      2\n",
            "4 x - 7 x + 5 x + 18 x - 15 x + 10\n"
          ]
        }
      ]
    },
    {
      "cell_type": "markdown",
      "source": [
        "### How to divide a polynomial to another using NumPy in Python?"
      ],
      "metadata": {
        "id": "65owkBxePz0u"
      }
    },
    {
      "cell_type": "code",
      "source": [
        "quotient, rest = first_pol_func / second_pol_func\n",
        "print('q(x) = ', quotient)\n",
        "print('r(x) = ', rest)"
      ],
      "metadata": {
        "colab": {
          "base_uri": "https://localhost:8080/"
        },
        "id": "rJy__pgQP2eJ",
        "outputId": "6ead07c1-e5ca-4439-89a2-f92fb558c46b"
      },
      "execution_count": null,
      "outputs": [
        {
          "output_type": "stream",
          "name": "stdout",
          "text": [
            "q(x) =   \n",
            "0\n",
            "r(x) =     2\n",
            "4 x - 3 x + 2\n"
          ]
        }
      ]
    },
    {
      "cell_type": "markdown",
      "source": [
        "### Find the roots of the polynomials using NumPy"
      ],
      "metadata": {
        "id": "lHbzAur6P_sD"
      }
    },
    {
      "cell_type": "code",
      "source": [
        "roots = np.roots(first_pol_func)\n",
        "print(roots)"
      ],
      "metadata": {
        "colab": {
          "base_uri": "https://localhost:8080/"
        },
        "id": "FnS4s8lqQBwK",
        "outputId": "80c22c65-9421-4536-e930-31017f6110c4"
      },
      "execution_count": null,
      "outputs": [
        {
          "output_type": "stream",
          "name": "stdout",
          "text": [
            "[0.375+0.59947894j 0.375-0.59947894j]\n"
          ]
        }
      ]
    },
    {
      "cell_type": "markdown",
      "source": [
        "### Evaluate a 2-D polynomial series on the Cartesian product"
      ],
      "metadata": {
        "id": "jBdpUEfGQEa9"
      }
    },
    {
      "cell_type": "code",
      "source": [
        "m = np.array([[4, 2], [-5, 15]])\n",
        "ps = np.polynomial.polynomial.polygrid2d([1,2],[1,2], m)\n",
        "print(ps)"
      ],
      "metadata": {
        "colab": {
          "base_uri": "https://localhost:8080/"
        },
        "id": "5THAJngGQFa6",
        "outputId": "3d0d7488-1159-4522-f666-76600a5d509e"
      },
      "execution_count": null,
      "outputs": [
        {
          "output_type": "stream",
          "name": "stdout",
          "text": [
            "[[16. 33.]\n",
            " [26. 58.]]\n"
          ]
        }
      ]
    },
    {
      "cell_type": "markdown",
      "source": [
        "### Evaluate a 3-D polynomial series on the Cartesian product"
      ],
      "metadata": {
        "id": "QrN6-ZKiQH0b"
      }
    },
    {
      "cell_type": "code",
      "source": [
        "m = np.arange(8).reshape(2, 2, 2)\n",
        "ps = np.polynomial.polynomial.polygrid3d([1,2],[1,2],[1,2],m)\n",
        "print(ps)"
      ],
      "metadata": {
        "colab": {
          "base_uri": "https://localhost:8080/"
        },
        "id": "qbo2nk0_QJTw",
        "outputId": "3c374319-37db-43aa-9139-0dc6c8464fdb"
      },
      "execution_count": null,
      "outputs": [
        {
          "output_type": "stream",
          "name": "stdout",
          "text": [
            "[[[ 28.  44.]\n",
            "  [ 46.  72.]]\n",
            "\n",
            " [[ 50.  78.]\n",
            "  [ 81. 126.]]]\n"
          ]
        }
      ]
    },
    {
      "cell_type": "markdown",
      "source": [
        "# Questions on NumPy Strings"
      ],
      "metadata": {
        "id": "R75zS19oQXA9"
      }
    },
    {
      "cell_type": "markdown",
      "source": [
        "### Repeat all the elements of a NumPy array of strings"
      ],
      "metadata": {
        "id": "v90KbpmBQZi2"
      }
    },
    {
      "cell_type": "code",
      "source": [
        "array = np.array(['mesa', 'Mateus', 'Brazil', '100'])\n",
        "\n",
        "new_array = np.char.multiply(array, 4)\n",
        "print(new_array)"
      ],
      "metadata": {
        "colab": {
          "base_uri": "https://localhost:8080/"
        },
        "id": "CF3YVLklQZJT",
        "outputId": "0afc363a-672e-46a0-c2e5-786b7c316cc6"
      },
      "execution_count": null,
      "outputs": [
        {
          "output_type": "stream",
          "name": "stdout",
          "text": [
            "['mesamesamesamesa' 'MateusMateusMateusMateus' 'BrazilBrazilBrazilBrazil'\n",
            " '100100100100']\n"
          ]
        }
      ]
    },
    {
      "cell_type": "markdown",
      "source": [
        "### How to split the element of a given NumPy array with spaces?"
      ],
      "metadata": {
        "id": "CY7rTM8lRIMk"
      }
    },
    {
      "cell_type": "code",
      "source": [
        "name = np.array('Mateus Monteiro Santos')\n",
        "new_name = np.char.split(name)\n",
        "print(new_name)"
      ],
      "metadata": {
        "colab": {
          "base_uri": "https://localhost:8080/"
        },
        "id": "nOOVqjRgRKI6",
        "outputId": "0cab4642-1bf2-48f1-e91e-808727b2668b"
      },
      "execution_count": null,
      "outputs": [
        {
          "output_type": "stream",
          "name": "stdout",
          "text": [
            "['Mateus', 'Monteiro', 'Santos']\n"
          ]
        }
      ]
    },
    {
      "cell_type": "markdown",
      "source": [
        "### How to insert a space between characters of all the elements of a given NumPy array?"
      ],
      "metadata": {
        "id": "kV2dBcayRQMg"
      }
    },
    {
      "cell_type": "code",
      "source": [
        "new_array = np.char.join(' ', array)\n",
        "print(new_array)"
      ],
      "metadata": {
        "colab": {
          "base_uri": "https://localhost:8080/"
        },
        "id": "LI7sJFKIRSJ6",
        "outputId": "1be933ee-e8af-428c-a6a5-05e82ebba585"
      },
      "execution_count": null,
      "outputs": [
        {
          "output_type": "stream",
          "name": "stdout",
          "text": [
            "['m e s a' 'M a t e u s' 'B r a z i l' '1 0 0']\n"
          ]
        }
      ]
    },
    {
      "cell_type": "markdown",
      "source": [
        "### Find the length of each string element in the Numpy array"
      ],
      "metadata": {
        "id": "TNVACOdbRVGB"
      }
    },
    {
      "cell_type": "code",
      "source": [
        "print(np.char.str_len(array))"
      ],
      "metadata": {
        "colab": {
          "base_uri": "https://localhost:8080/"
        },
        "id": "OWpaIqvVRW5p",
        "outputId": "454634ca-6967-4f65-c480-ae2fb431d269"
      },
      "execution_count": null,
      "outputs": [
        {
          "output_type": "stream",
          "name": "stdout",
          "text": [
            "[4 6 6 3]\n"
          ]
        }
      ]
    },
    {
      "cell_type": "markdown",
      "source": [
        "### Swap the case of an array of string"
      ],
      "metadata": {
        "id": "kcBG5d7BRbUd"
      }
    },
    {
      "cell_type": "code",
      "source": [
        "new_array = np.char.swapcase(array)\n",
        "print(new_array)"
      ],
      "metadata": {
        "colab": {
          "base_uri": "https://localhost:8080/"
        },
        "id": "6Lqcg3uKRc38",
        "outputId": "4af43d6f-3330-46dc-8f94-bb76ddcce58b"
      },
      "execution_count": null,
      "outputs": [
        {
          "output_type": "stream",
          "name": "stdout",
          "text": [
            "['MESA' 'mATEUS' 'bRAZIL' '100']\n"
          ]
        }
      ]
    },
    {
      "cell_type": "markdown",
      "source": [
        "### Change the case to uppercase of elements of an array"
      ],
      "metadata": {
        "id": "kKIYc0RaRgjY"
      }
    },
    {
      "cell_type": "code",
      "source": [
        "new_array = np.char.upper(array)\n",
        "print(new_array)"
      ],
      "metadata": {
        "colab": {
          "base_uri": "https://localhost:8080/"
        },
        "id": "pePmyImpRiRI",
        "outputId": "d986eb8e-2b95-4fc5-cb2f-6fee83ec9318"
      },
      "execution_count": null,
      "outputs": [
        {
          "output_type": "stream",
          "name": "stdout",
          "text": [
            "['MESA' 'MATEUS' 'BRAZIL' '100']\n"
          ]
        }
      ]
    },
    {
      "cell_type": "markdown",
      "source": [
        "### Change the case to lowercase of elements of an array"
      ],
      "metadata": {
        "id": "jk4UA2jiRo5N"
      }
    },
    {
      "cell_type": "code",
      "source": [
        "new_array = np.char.lower(array)\n",
        "print(new_array)"
      ],
      "metadata": {
        "colab": {
          "base_uri": "https://localhost:8080/"
        },
        "id": "mXclJCb9Rq65",
        "outputId": "02731729-f560-4c03-84f4-af5a3c2d4a9f"
      },
      "execution_count": null,
      "outputs": [
        {
          "output_type": "stream",
          "name": "stdout",
          "text": [
            "['mesa' 'mateus' 'brazil' '100']\n"
          ]
        }
      ]
    },
    {
      "cell_type": "markdown",
      "source": [
        "### Join String by a seperator"
      ],
      "metadata": {
        "id": "3MZ-UXOERtiq"
      }
    },
    {
      "cell_type": "code",
      "source": [
        "new_name = np.char.replace(name, ' ', '-')\n",
        "print(new_name)"
      ],
      "metadata": {
        "colab": {
          "base_uri": "https://localhost:8080/"
        },
        "id": "bNKTALxbRwWS",
        "outputId": "f29d3810-54ee-494c-df36-27176cdf62e1"
      },
      "execution_count": null,
      "outputs": [
        {
          "output_type": "stream",
          "name": "stdout",
          "text": [
            "Mateus-Monteiro-Santos\n"
          ]
        }
      ]
    },
    {
      "cell_type": "markdown",
      "source": [
        "### Check if two same shaped string arrayss one by one"
      ],
      "metadata": {
        "id": "LYF59ZvyRzbh"
      }
    },
    {
      "cell_type": "code",
      "source": [
        "np.array_equal(array, new_array)"
      ],
      "metadata": {
        "colab": {
          "base_uri": "https://localhost:8080/"
        },
        "id": "4bCwwWBaR1S_",
        "outputId": "1adbeb56-4737-405b-bc77-6eaac3d7794f"
      },
      "execution_count": null,
      "outputs": [
        {
          "output_type": "execute_result",
          "data": {
            "text/plain": [
              "False"
            ]
          },
          "metadata": {},
          "execution_count": 208
        }
      ]
    },
    {
      "cell_type": "markdown",
      "source": [
        "### Count the number of substrings in an array"
      ],
      "metadata": {
        "id": "C6t6Ur-uR4ji"
      }
    },
    {
      "cell_type": "code",
      "source": [
        "ra_count= np.char.count(array, 'us')\n",
        "print(ra_count)"
      ],
      "metadata": {
        "colab": {
          "base_uri": "https://localhost:8080/"
        },
        "id": "D2tZeApLR5O3",
        "outputId": "7cb17f64-e9ff-4b10-ef94-39dc252f6133"
      },
      "execution_count": null,
      "outputs": [
        {
          "output_type": "stream",
          "name": "stdout",
          "text": [
            "[0 1 0 0]\n"
          ]
        }
      ]
    },
    {
      "cell_type": "markdown",
      "source": [
        "### Find the lowest index of the substring in an array"
      ],
      "metadata": {
        "id": "a_8hz7NwR7II"
      }
    },
    {
      "cell_type": "code",
      "source": [
        "lowest_index = np.char.find(array, 'us').argmin()\n",
        "print(lowest_index)"
      ],
      "metadata": {
        "colab": {
          "base_uri": "https://localhost:8080/"
        },
        "id": "Cu_FVxSmR85P",
        "outputId": "c8089068-a742-4abb-e2f0-b0ce1109cac8"
      },
      "execution_count": null,
      "outputs": [
        {
          "output_type": "stream",
          "name": "stdout",
          "text": [
            "0\n"
          ]
        }
      ]
    },
    {
      "cell_type": "markdown",
      "source": [
        "### Get the boolean array when values end with a particular character"
      ],
      "metadata": {
        "id": "eresQDwmR-Ci"
      }
    },
    {
      "cell_type": "code",
      "source": [
        "m = np.char.endswith(array, 'il')\n",
        "print(m)"
      ],
      "metadata": {
        "colab": {
          "base_uri": "https://localhost:8080/"
        },
        "id": "uSU4EJrRSBtF",
        "outputId": "5fdb5f98-2da6-46ac-dc00-476bf45c4382"
      },
      "execution_count": null,
      "outputs": [
        {
          "output_type": "stream",
          "name": "stdout",
          "text": [
            "[False False  True False]\n"
          ]
        }
      ]
    },
    {
      "cell_type": "markdown",
      "source": [
        "# More Questions on NumPy"
      ],
      "metadata": {
        "id": "6pX5ySn9SBU3"
      }
    },
    {
      "cell_type": "markdown",
      "source": [
        "### Different ways to convert a Python dictionary to a NumPy array"
      ],
      "metadata": {
        "id": "cVOBre7wSIIq"
      }
    },
    {
      "cell_type": "code",
      "source": [
        "states_by_cities = {'Alagoas':'Maceió', 'Amapá':'Macapá', 'Maranhão':'São Luís'}\n",
        "print(states_by_cities, '\\n')\n",
        "\n",
        "array_states = np.asarray(states_by_cities)\n",
        "print(array_states)\n",
        "print(type(array_states), '\\n')\n",
        "\n",
        "array_states = np.array(states_by_cities)\n",
        "print(array_states)\n",
        "print(type(array_states), '\\n')\n",
        "\n",
        "array_states = np.asarray(list(states_by_cities.items()))\n",
        "print(array_states)\n",
        "print(type(array_states), '\\n')\n",
        "\n",
        "array_states = np.array(list(states_by_cities.items()))\n",
        "print(array_states)\n",
        "print(type(array_states))"
      ],
      "metadata": {
        "colab": {
          "base_uri": "https://localhost:8080/"
        },
        "id": "lf6ytjfnSxVQ",
        "outputId": "f304662b-0862-465e-ba5c-39d1fe3487fd"
      },
      "execution_count": null,
      "outputs": [
        {
          "output_type": "stream",
          "name": "stdout",
          "text": [
            "{'Alagoas': 'Maceió', 'Amapá': 'Macapá', 'Maranhão': 'São Luís'} \n",
            "\n",
            "{'Alagoas': 'Maceió', 'Amapá': 'Macapá', 'Maranhão': 'São Luís'}\n",
            "<class 'numpy.ndarray'> \n",
            "\n",
            "{'Alagoas': 'Maceió', 'Amapá': 'Macapá', 'Maranhão': 'São Luís'}\n",
            "<class 'numpy.ndarray'> \n",
            "\n",
            "[['Alagoas' 'Maceió']\n",
            " ['Amapá' 'Macapá']\n",
            " ['Maranhão' 'São Luís']]\n",
            "<class 'numpy.ndarray'> \n",
            "\n",
            "[['Alagoas' 'Maceió']\n",
            " ['Amapá' 'Macapá']\n",
            " ['Maranhão' 'São Luís']]\n",
            "<class 'numpy.ndarray'>\n"
          ]
        }
      ]
    },
    {
      "cell_type": "markdown",
      "source": [
        "### How to convert a list and tuple into NumPy arrays?"
      ],
      "metadata": {
        "id": "oXj3twZ4ZF8g"
      }
    },
    {
      "cell_type": "code",
      "source": [
        "array_even = np.asarray([0, 2, 4, 6, 8])\n",
        "array_odd = np.asarray([1, 3, 5, 7, 9])\n",
        "\n",
        "print(array_even)\n",
        "print(type(array_even))\n",
        "print(array_odd)\n",
        "print(type(array_odd))"
      ],
      "metadata": {
        "colab": {
          "base_uri": "https://localhost:8080/"
        },
        "id": "335_5KXqZWor",
        "outputId": "d6247591-4133-4380-89c2-ea2433152cfb"
      },
      "execution_count": null,
      "outputs": [
        {
          "output_type": "stream",
          "name": "stdout",
          "text": [
            "[0 2 4 6 8]\n",
            "<class 'numpy.ndarray'>\n",
            "[1 3 5 7 9]\n",
            "<class 'numpy.ndarray'>\n"
          ]
        }
      ]
    },
    {
      "cell_type": "markdown",
      "source": [
        "### Ways to convert array of strings to array of floats"
      ],
      "metadata": {
        "id": "F-N2RupxZ3h5"
      }
    },
    {
      "cell_type": "code",
      "source": [
        "float_numbers = ['1.4', '-2', '3.14', '1.']\n",
        "array_numbers = np.asarray(float_numbers).astype('float')\n",
        "print(array_numbers)"
      ],
      "metadata": {
        "colab": {
          "base_uri": "https://localhost:8080/"
        },
        "id": "qsQ990qJZ5sG",
        "outputId": "20487f40-bd96-4651-910e-04f218e43020"
      },
      "execution_count": null,
      "outputs": [
        {
          "output_type": "stream",
          "name": "stdout",
          "text": [
            "[ 1.4  -2.    3.14  1.  ]\n"
          ]
        }
      ]
    },
    {
      "cell_type": "markdown",
      "source": [
        "### Convert a NumPy array into a csv file"
      ],
      "metadata": {
        "id": "inKL9G01Z__G"
      }
    },
    {
      "cell_type": "code",
      "source": [
        "array = np.arange(8).reshape(2, 4)\n",
        "np.savetxt('array.csv', array)\n",
        "\n",
        "with open('array.csv', 'r') as file:\n",
        "    data = file.read()\n",
        "    print(data)"
      ],
      "metadata": {
        "colab": {
          "base_uri": "https://localhost:8080/"
        },
        "id": "tL6aD99ZaB3h",
        "outputId": "f20d90f5-01a9-4a5d-9c65-5a6a74a646c2"
      },
      "execution_count": null,
      "outputs": [
        {
          "output_type": "stream",
          "name": "stdout",
          "text": [
            "0.000000000000000000e+00 1.000000000000000000e+00 2.000000000000000000e+00 3.000000000000000000e+00\n",
            "4.000000000000000000e+00 5.000000000000000000e+00 6.000000000000000000e+00 7.000000000000000000e+00\n",
            "\n"
          ]
        }
      ]
    },
    {
      "cell_type": "markdown",
      "source": [
        "### How to Convert an image to NumPy array and save it to CSV file using Python?"
      ],
      "metadata": {
        "id": "Rl8rY4gTaYZ_"
      }
    },
    {
      "cell_type": "code",
      "source": [
        "import cv2\n",
        "\n",
        "!wget 'https://this-person-does-not-exist.com/img/avatar-81552e1940b439ba3b42677d139ed4da.jpg' -P images\n",
        "\n",
        "image = cv2.imread('images/avatar-81552e1940b439ba3b42677d139ed4da.jpg')\n",
        "image_2d = image.reshape(image.shape[0], -1)\n",
        "np.savetxt('avatar.csv', image_2d)"
      ],
      "metadata": {
        "colab": {
          "base_uri": "https://localhost:8080/"
        },
        "id": "15UWuHpIaZSu",
        "outputId": "a4cfbdaa-c69a-4ced-ea98-bfedbce3a57f"
      },
      "execution_count": 226,
      "outputs": [
        {
          "output_type": "stream",
          "name": "stdout",
          "text": [
            "--2022-08-19 23:37:13--  https://this-person-does-not-exist.com/img/avatar-81552e1940b439ba3b42677d139ed4da.jpg\n",
            "Resolving this-person-does-not-exist.com (this-person-does-not-exist.com)... 185.17.2.71\n",
            "Connecting to this-person-does-not-exist.com (this-person-does-not-exist.com)|185.17.2.71|:443... connected.\n",
            "HTTP request sent, awaiting response... 200 OK\n",
            "Length: 497250 (486K) [image/jpeg]\n",
            "Saving to: ‘images/avatar-81552e1940b439ba3b42677d139ed4da.jpg.1’\n",
            "\n",
            "avatar-81552e1940b4 100%[===================>] 485.60K   473KB/s    in 1.0s    \n",
            "\n",
            "2022-08-19 23:37:15 (473 KB/s) - ‘images/avatar-81552e1940b439ba3b42677d139ed4da.jpg.1’ saved [497250/497250]\n",
            "\n"
          ]
        }
      ]
    },
    {
      "cell_type": "markdown",
      "source": [
        "### How to save a NumPy array to a text file?"
      ],
      "metadata": {
        "id": "JJlPfsF9adWD"
      }
    },
    {
      "cell_type": "code",
      "source": [
        "array = np.arange(1,10)\n",
        "np.savetxt('array.txt', array)\n",
        "\n",
        "with open('array.txt', 'r') as file:\n",
        "    data = file.read()\n",
        "    print(data)"
      ],
      "metadata": {
        "id": "98lY6kQFaejk",
        "colab": {
          "base_uri": "https://localhost:8080/"
        },
        "outputId": "ec6b8aac-9a39-4723-eb09-b26a41fb50ad"
      },
      "execution_count": 233,
      "outputs": [
        {
          "output_type": "stream",
          "name": "stdout",
          "text": [
            "1.000000000000000000e+00\n",
            "2.000000000000000000e+00\n",
            "3.000000000000000000e+00\n",
            "4.000000000000000000e+00\n",
            "5.000000000000000000e+00\n",
            "6.000000000000000000e+00\n",
            "7.000000000000000000e+00\n",
            "8.000000000000000000e+00\n",
            "9.000000000000000000e+00\n",
            "\n"
          ]
        }
      ]
    },
    {
      "cell_type": "markdown",
      "source": [
        "### Load data from a text file"
      ],
      "metadata": {
        "id": "wSEX7Ch8alik"
      }
    },
    {
      "cell_type": "code",
      "source": [
        "data = np.loadtxt('array.txt')\n",
        "print(data)"
      ],
      "metadata": {
        "id": "ElQqgQP5amlt",
        "colab": {
          "base_uri": "https://localhost:8080/"
        },
        "outputId": "ec157e85-8223-4636-9703-28e1ff8cf1da"
      },
      "execution_count": 234,
      "outputs": [
        {
          "output_type": "stream",
          "name": "stdout",
          "text": [
            "[1. 2. 3. 4. 5. 6. 7. 8. 9.]\n"
          ]
        }
      ]
    },
    {
      "cell_type": "markdown",
      "source": [
        "### Plot line graph from NumPy array"
      ],
      "metadata": {
        "id": "biawov0hapLw"
      }
    },
    {
      "cell_type": "code",
      "source": [
        "import matplotlib.pyplot as plt\n",
        "\n",
        "x = np.arange(-9,10)\n",
        "y = np.array([i**3 for i in x])\n",
        "\n",
        "plt.plot(x, y)\n",
        "plt.title(\"Line graph\")\n",
        "plt.xlabel('x')\n",
        "plt.ylabel('f(x) = x³')\n",
        "plt.show()"
      ],
      "metadata": {
        "id": "OkvT7Wmaaqy8",
        "colab": {
          "base_uri": "https://localhost:8080/",
          "height": 295
        },
        "outputId": "378f9400-2b67-4379-8fe4-89495b8578ea"
      },
      "execution_count": 229,
      "outputs": [
        {
          "output_type": "display_data",
          "data": {
            "text/plain": [
              "<Figure size 432x288 with 1 Axes>"
            ],
            "image/png": "[encoded data removed]"
          },
          "metadata": {
            "needs_background": "light"
          }
        }
      ]
    },
    {
      "cell_type": "markdown",
      "source": [
        "### Create Histogram using NumPy"
      ],
      "metadata": {
        "id": "ftIn7RhrauW8"
      }
    },
    {
      "cell_type": "code",
      "source": [
        "histogram = np.random.default_rng().random(100)\n",
        "plt.hist(histogram)\n",
        "plt.show()"
      ],
      "metadata": {
        "id": "-L3es1jtavWr",
        "colab": {
          "base_uri": "https://localhost:8080/",
          "height": 265
        },
        "outputId": "97d6f57c-dfec-4887-e0a1-43229417192f"
      },
      "execution_count": 232,
      "outputs": [
        {
          "output_type": "display_data",
          "data": {
            "text/plain": [
              "<Figure size 432x288 with 1 Axes>"
            ],
            "image/png": "[encoded data removed]"
          },
          "metadata": {
            "needs_background": "light"
          }
        }
      ]
    }
  ]
}